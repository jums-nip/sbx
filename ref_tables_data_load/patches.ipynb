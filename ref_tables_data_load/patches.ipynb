{
 "cells": [
  {
   "cell_type": "code",
   "execution_count": 0,
   "metadata": {
    "application/vnd.databricks.v1+cell": {
     "cellMetadata": {},
     "inputWidgets": {},
     "nuid": "d2b24780-ff6f-4164-a794-2b3b020eea0d",
     "showTitle": false,
     "tableResultSettingsMap": {},
     "title": ""
    }
   },
   "outputs": [],
   "source": [
    "%sql\n",
    "SELECT a.account_id,\n",
    "\ta.policy_number,\n",
    "\ta.policy_state,\n",
    "\tc.lob,\n",
    "\ta.product_code,\n",
    "\ta.program,\n",
    "\ta.organization,\n",
    "\ta.marketing_plan,\n",
    "\tb.book,\n",
    "\tCASE\n",
    "\t\tWHEN a.organization = 'Unknown' THEN x.organization\n",
    "\t\tELSE a.organization\n",
    "\tEND AS final_organization,\n",
    "\tCASE\n",
    "\t\tWHEN a.organization = 'Unknown' THEN xb.book\n",
    "\t\tELSE b.book\n",
    "\tEND AS final_book\n",
    "FROM ventiv.dbo.policy_import_01 AS a\n",
    "LEFT JOIN ventiv.dbo.ref_organization AS b ON\n",
    "\t\ta.organization = b.organization\n",
    "LEFT JOIN ventiv.dbo.ref_lob AS c ON\n",
    "\t\ta.primary_coverage = c.coverage\n",
    "LEFT JOIN ventiv.dbo.xref_marketing_plan_to_organization AS x ON\n",
    "\t\tLEFT(a.marketing_plan, 3) = x.marketing_plan_code\n",
    "LEFT JOIN ventiv.dbo.ref_organization AS xb ON\n",
    "\t\tx.organization = xb.organization\n",
    "WHERE 1 = 1\n",
    "\tAND a.program = 'EdgePro'\n",
    "\tAND a.organization = 'Unknown'\n",
    "ORDER BY\n",
    "\tmarketing_plan;"
   ]
  },
  {
   "cell_type": "code",
   "execution_count": 0,
   "metadata": {
    "application/vnd.databricks.v1+cell": {
     "cellMetadata": {},
     "inputWidgets": {},
     "nuid": "f1b45abf-8476-499f-8c07-bfab23aff362",
     "showTitle": false,
     "tableResultSettingsMap": {},
     "title": ""
    }
   },
   "outputs": [],
   "source": [
    "%sql\n",
    "UPDATE a\n",
    "SET a.organization = CASE\n",
    "\t\tWHEN a.organization = 'Unknown' THEN x.organization\n",
    "\t\tELSE a.organization\n",
    "\tEND\n",
    "FROM ventiv.dbo.policy_import_01 a\n",
    "LEFT JOIN ventiv.dbo.ref_organization b  ON\n",
    "\ta.organization = b.organization\n",
    "LEFT JOIN ventiv.dbo.ref_lob c  ON\n",
    "\ta.primary_coverage = c.coverage\n",
    "LEFT JOIN ventiv.dbo.xref_marketing_plan_to_organization x  ON\n",
    "\tLEFT(a.marketing_plan, 3) = x.marketing_plan_code\n",
    "LEFT JOIN ventiv.dbo.ref_organization xb  ON\n",
    "\tx.organization = xb.organization\n",
    "WHERE 1 = 1\n",
    "\tAND a.program = 'EdgePro'\n",
    "\tAND a.organization = 'Unknown';"
   ]
  },
  {
   "cell_type": "code",
   "execution_count": 0,
   "metadata": {
    "application/vnd.databricks.v1+cell": {
     "cellMetadata": {},
     "inputWidgets": {},
     "nuid": "89dde077-b6df-4977-ac37-55185b09b5a3",
     "showTitle": false,
     "tableResultSettingsMap": {},
     "title": ""
    }
   },
   "outputs": [],
   "source": [
    "df_patch_query_sql = spark.sql(f\"\"\"\n",
    "    SELECT a.account_id,\n",
    "\ta.policy_number,\n",
    "\ta.policy_state,\n",
    "\tc.lob,\n",
    "\ta.product_code,\n",
    "\ta.program,\n",
    "\ta.organization,\n",
    "\ta.marketing_plan,\n",
    "\tb.book,\n",
    "\tCASE\n",
    "\t\tWHEN a.organization = 'Unknown' THEN x.organization\n",
    "\t\tELSE a.organization\n",
    "\tEND AS final_organization,\n",
    "\tCASE\n",
    "\t\tWHEN a.organization = 'Unknown' THEN xb.book\n",
    "\t\tELSE b.book\n",
    "\tEND AS final_book\n",
    "    FROM df_import_01 AS a\n",
    "    LEFT JOIN delta_ref_org AS b ON\n",
    "            a.organization = b.organization\n",
    "    LEFT JOIN delta_ref_lob AS c ON\n",
    "            a.primary_coverage = c.coverage\n",
    "    LEFT JOIN delta_xref_marketing_plan_to_organization AS x ON\n",
    "            LEFT(a.marketing_plan, 3) = x.marketing_plan_code\n",
    "    LEFT JOIN delta_ref_org AS xb ON\n",
    "            x.organization = xb.organization\n",
    "    WHERE 1 = 1\n",
    "        AND a.program = 'EdgePro'\n",
    "        AND a.organization = 'Unknown'\n",
    "    ORDER BY\n",
    "        marketing_plan;\n",
    "\"\"\")\n",
    "\n",
    "df_patch_query_sql.display()\n",
    "# print(df_patch_query_sql.count())"
   ]
  },
  {
   "cell_type": "code",
   "execution_count": 0,
   "metadata": {
    "application/vnd.databricks.v1+cell": {
     "cellMetadata": {},
     "inputWidgets": {},
     "nuid": "08192df1-2cd8-496c-9e6e-a47aa2701951",
     "showTitle": false,
     "tableResultSettingsMap": {},
     "title": ""
    }
   },
   "outputs": [],
   "source": [
    "SELECT '{as_of_date}' AS as_of,\n",
    "    b.book,\n",
    "    b.account_name,\n",
    "    CASE WHEN a.billing_code in ('161856')\n",
    "            THEN 'Tree Pro'\n",
    "        ELSE b.specialty_program\n",
    "    END AS specialty_program,\n",
    "    b.carrier,\t\n",
    "    CASE WHEN a.primary_coverage IN ('EPL/POL')\n",
    "            THEN a.primary_coverage\n",
    "        ELSE c.lob \n",
    "    END AS LOB, /* Not adding 'EPL/POL' as an entry to the reference LOB table because claims should NOT come in this way; these premium records are ok. */\n",
    "    a.*,\n",
    "    (CAST(a.sub_producer_commission_char AS FLOAT) / 100) AS sub_producer_commission\n",
    "FROM df_import_01 AS a\n",
    "    LEFT JOIN delta_ref_org AS b ON\n",
    "        a.organization = b.organization\n",
    "    LEFT JOIN delta_ref_lob AS c ON\n",
    "        a.primary_coverage = c.coverage;"
   ]
  }
 ],
 "metadata": {
  "application/vnd.databricks.v1+notebook": {
   "computePreferences": null,
   "dashboards": [],
   "environmentMetadata": {
    "base_environment": "",
    "environment_version": "3"
   },
   "inputWidgetPreferences": null,
   "language": "python",
   "notebookMetadata": {
    "pythonIndentUnit": 4
   },
   "notebookName": "patches",
   "widgets": {}
  },
  "language_info": {
   "name": "python"
  }
 },
 "nbformat": 4,
 "nbformat_minor": 0
}
