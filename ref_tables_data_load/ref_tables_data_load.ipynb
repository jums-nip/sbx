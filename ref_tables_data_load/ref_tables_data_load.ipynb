{
 "cells": [
  {
   "cell_type": "code",
   "execution_count": 0,
   "metadata": {
    "application/vnd.databricks.v1+cell": {
     "cellMetadata": {
      "byteLimit": 2048000,
      "rowLimit": 10000
     },
     "collapsed": true,
     "inputWidgets": {},
     "nuid": "bd52343c-e6cd-4d9e-87c1-2e7c42921980",
     "showTitle": true,
     "tableResultSettingsMap": {},
     "title": "claims_dh"
    }
   },
   "outputs": [],
   "source": [
    "delta_table = \"hive_metastore.nip_refined.claims_dh\"\n",
    "excel_file_path = \"file:/Workspace/Users/jn@nipgroup.com/ref_tables_data_load/claims_dh_tbl.csv\"\n",
    "delta_df = spark.read.format(\"delta\").table(delta_table)\n",
    "df = spark.read.csv(excel_file_path, header=True, inferSchema=False, schema=delta_df.schema)\n",
    "\n",
    "df.write.format(\"delta\") \\\n",
    "    .mode(\"overwrite\") \\\n",
    "    .option(\"truncate\", \"true\") \\\n",
    "    .saveAsTable(delta_table)"
   ]
  },
  {
   "cell_type": "code",
   "execution_count": 0,
   "metadata": {
    "application/vnd.databricks.v1+cell": {
     "cellMetadata": {
      "byteLimit": 2048000,
      "rowLimit": 10000
     },
     "collapsed": true,
     "inputWidgets": {},
     "nuid": "7ec75382-7eb4-44e0-9ef2-dd47e7235640",
     "showTitle": true,
     "tableResultSettingsMap": {},
     "title": "claims_qualynx"
    }
   },
   "outputs": [],
   "source": [
    "delta_table = \"hive_metastore.nip_refined.claims_qualynx\"\n",
    "excel_file_path = \"file:/Workspace/Users/jn@nipgroup.com/ref_tables_data_load/claims_qualynx_tbl.csv\"\n",
    "delta_df = spark.read.format(\"delta\").table(delta_table)\n",
    "df = spark.read.csv(excel_file_path, header=True, inferSchema=False, schema=delta_df.schema)\n",
    "\n",
    "df.write.format(\"delta\") \\\n",
    "    .mode(\"overwrite\") \\\n",
    "    .option(\"truncate\", \"true\") \\\n",
    "    .saveAsTable(delta_table)"
   ]
  },
  {
   "cell_type": "code",
   "execution_count": 0,
   "metadata": {
    "application/vnd.databricks.v1+cell": {
     "cellMetadata": {
      "byteLimit": 2048000,
      "rowLimit": 10000
     },
     "inputWidgets": {},
     "nuid": "b1c43066-b963-4d39-9460-917096c9746d",
     "showTitle": true,
     "tableResultSettingsMap": {},
     "title": "ref_claims_patch"
    }
   },
   "outputs": [],
   "source": [
    "delta_table = \"hive_metastore.nip_refined.ref_claims_patch\"\n",
    "excel_file_path = \"file:/Workspace/Users/jn@nipgroup.com/sbx/ref_tables_data_load/ref_claims_patch_tbl.csv\"\n",
    "delta_df = spark.read.format(\"delta\").table(delta_table)\n",
    "df = spark.read.csv(excel_file_path, header=True, inferSchema=False, schema=delta_df.schema)\n",
    "\n",
    "df.write.format(\"delta\") \\\n",
    "    .mode(\"overwrite\") \\\n",
    "    .option(\"truncate\", \"true\") \\\n",
    "    .saveAsTable(delta_table)"
   ]
  },
  {
   "cell_type": "code",
   "execution_count": 0,
   "metadata": {
    "application/vnd.databricks.v1+cell": {
     "cellMetadata": {
      "byteLimit": 2048000,
      "rowLimit": 10000
     },
     "collapsed": true,
     "inputWidgets": {},
     "nuid": "b30daf0a-0dfc-4c07-857a-e1498407abc8",
     "showTitle": true,
     "tableResultSettingsMap": {},
     "title": "ref_class_code"
    }
   },
   "outputs": [],
   "source": [
    "delta_table = \"hive_metastore.nip_refined.ref_class_code\"\n",
    "excel_file_path = \"file:/Workspace/Users/jn@nipgroup.com/ref_tables_data_load/ref_class_code_tbl.csv\"\n",
    "delta_df = spark.read.format(\"delta\").table(delta_table)\n",
    "df = spark.read.csv(excel_file_path, header=True, inferSchema=False, schema=delta_df.schema)\n",
    "\n",
    "df.write.format(\"delta\") \\\n",
    "    .mode(\"overwrite\") \\\n",
    "    .option(\"truncate\", \"true\") \\\n",
    "    .saveAsTable(delta_table)"
   ]
  },
  {
   "cell_type": "code",
   "execution_count": 0,
   "metadata": {
    "application/vnd.databricks.v1+cell": {
     "cellMetadata": {
      "byteLimit": 2048000,
      "rowLimit": 10000
     },
     "collapsed": true,
     "inputWidgets": {},
     "nuid": "3178a2ef-3a46-4525-a297-09fdf92f9811",
     "showTitle": true,
     "tableResultSettingsMap": {},
     "title": "ref_cov_desc"
    }
   },
   "outputs": [],
   "source": [
    "delta_table = \"hive_metastore.nip_refined.ref_cov_desc\"\n",
    "excel_file_path = \"file:/Workspace/Users/jn@nipgroup.com/ref_tables_data_load/ref_cov_desc_tbl.csv\"\n",
    "delta_df = spark.read.format(\"delta\").table(delta_table)\n",
    "df = spark.read.csv(excel_file_path, header=True, inferSchema=False, schema=delta_df.schema)\n",
    "\n",
    "df.write.format(\"delta\") \\\n",
    "    .mode(\"overwrite\") \\\n",
    "    .option(\"truncate\", \"true\") \\\n",
    "    .saveAsTable(delta_table)"
   ]
  },
  {
   "cell_type": "code",
   "execution_count": 0,
   "metadata": {
    "application/vnd.databricks.v1+cell": {
     "cellMetadata": {
      "byteLimit": 2048000,
      "rowLimit": 10000
     },
     "collapsed": true,
     "inputWidgets": {},
     "nuid": "99e87ff2-df24-4b52-b99c-ddea1149150d",
     "showTitle": true,
     "tableResultSettingsMap": {},
     "title": "ref_lob"
    }
   },
   "outputs": [],
   "source": [
    "delta_table = \"hive_metastore.nip_refined.ref_lob\"\n",
    "excel_file_path = \"file:/Workspace/Users/jn@nipgroup.com/ref_tables_data_load/ref_lob_tbl.csv\"\n",
    "delta_df = spark.read.format(\"delta\").table(delta_table)\n",
    "df = spark.read.csv(excel_file_path, header=True, inferSchema=False, schema=delta_df.schema)\n",
    "\n",
    "df.write.format(\"delta\") \\\n",
    "    .mode(\"overwrite\") \\\n",
    "    .option(\"truncate\", \"true\") \\\n",
    "    .saveAsTable(delta_table)"
   ]
  },
  {
   "cell_type": "code",
   "execution_count": 0,
   "metadata": {
    "application/vnd.databricks.v1+cell": {
     "cellMetadata": {
      "byteLimit": 2048000,
      "rowLimit": 10000
     },
     "collapsed": true,
     "inputWidgets": {},
     "nuid": "1ba4c9f6-63c0-48d3-b382-eef805a29216",
     "showTitle": true,
     "tableResultSettingsMap": {},
     "title": "ref_marketing_plan"
    }
   },
   "outputs": [],
   "source": [
    "delta_table = \"hive_metastore.nip_refined.ref_marketing_plan\"\n",
    "excel_file_path = \"file:/Workspace/Users/jn@nipgroup.com/ref_tables_data_load/ref_marketing_plan_tbl.csv\"\n",
    "delta_df = spark.read.format(\"delta\").table(delta_table)\n",
    "df = spark.read.csv(excel_file_path, header=True, inferSchema=False, schema=delta_df.schema)\n",
    "\n",
    "df.write.format(\"delta\") \\\n",
    "    .mode(\"overwrite\") \\\n",
    "    .option(\"truncate\", \"true\") \\\n",
    "    .saveAsTable(delta_table)"
   ]
  },
  {
   "cell_type": "code",
   "execution_count": 0,
   "metadata": {
    "application/vnd.databricks.v1+cell": {
     "cellMetadata": {
      "byteLimit": 2048000,
      "rowLimit": 10000
     },
     "collapsed": true,
     "inputWidgets": {},
     "nuid": "13d23acd-86c8-4bcf-9451-6051b363943b",
     "showTitle": true,
     "tableResultSettingsMap": {},
     "title": "ref_organization"
    }
   },
   "outputs": [],
   "source": [
    "delta_table = \"hive_metastore.nip_refined.ref_organization\"\n",
    "excel_file_path = \"file:/Workspace/Users/jn@nipgroup.com/ref_tables_data_load/ref_organization_tbl.csv\"\n",
    "delta_df = spark.read.format(\"delta\").table(delta_table)\n",
    "df = spark.read.csv(excel_file_path, header=True, inferSchema=False, schema=delta_df.schema)\n",
    "\n",
    "df.write.format(\"delta\") \\\n",
    "    .mode(\"overwrite\") \\\n",
    "    .option(\"truncate\", \"true\") \\\n",
    "    .saveAsTable(delta_table)"
   ]
  },
  {
   "cell_type": "code",
   "execution_count": 0,
   "metadata": {
    "application/vnd.databricks.v1+cell": {
     "cellMetadata": {
      "byteLimit": 2048000,
      "rowLimit": 10000
     },
     "collapsed": true,
     "inputWidgets": {},
     "nuid": "051b11bb-f8f4-430a-be5a-c3c3aa16615b",
     "showTitle": true,
     "tableResultSettingsMap": {},
     "title": "sp_premium_triangles"
    }
   },
   "outputs": [],
   "source": [
    "delta_table = \"hive_metastore.nip_refined.sp_premium_triangles\"\n",
    "excel_file_path = \"file:/Workspace/Users/jn@nipgroup.com/ref_tables_data_load/sp_premium_triangles_tbl.csv\"\n",
    "delta_df = spark.read.format(\"delta\").table(delta_table)\n",
    "df = spark.read.csv(excel_file_path, header=True, inferSchema=False, schema=delta_df.schema)\n",
    "\n",
    "df.write.format(\"delta\") \\\n",
    "    .mode(\"overwrite\") \\\n",
    "    .option(\"truncate\", \"true\") \\\n",
    "    .saveAsTable(delta_table)"
   ]
  },
  {
   "cell_type": "code",
   "execution_count": 0,
   "metadata": {
    "application/vnd.databricks.v1+cell": {
     "cellMetadata": {
      "byteLimit": 2048000,
      "rowLimit": 10000
     },
     "collapsed": true,
     "inputWidgets": {},
     "nuid": "6991dedf-2dda-40d4-b1aa-5db2508ece6a",
     "showTitle": true,
     "tableResultSettingsMap": {},
     "title": "xref_marketing_plan_to_organization"
    }
   },
   "outputs": [],
   "source": [
    "delta_table = \"hive_metastore.nip_refined.xref_marketing_plan_to_organization\"\n",
    "excel_file_path = \"file:/Workspace/Users/jn@nipgroup.com/ref_tables_data_load/xref_marketing_plan_to_organization_tbl.csv\"\n",
    "delta_df = spark.read.format(\"delta\").table(delta_table)\n",
    "df = spark.read.csv(excel_file_path, header=True, inferSchema=False, schema=delta_df.schema)\n",
    "\n",
    "df.write.format(\"delta\") \\\n",
    "    .mode(\"overwrite\") \\\n",
    "    .option(\"truncate\", \"true\") \\\n",
    "    .saveAsTable(delta_table)"
   ]
  }
 ],
 "metadata": {
  "application/vnd.databricks.v1+notebook": {
   "computePreferences": null,
   "dashboards": [],
   "environmentMetadata": {
    "base_environment": "",
    "environment_version": "3"
   },
   "inputWidgetPreferences": null,
   "language": "python",
   "notebookMetadata": {
    "pythonIndentUnit": 4
   },
   "notebookName": "ref_tables_data_load",
   "widgets": {}
  },
  "language_info": {
   "name": "python"
  }
 },
 "nbformat": 4,
 "nbformat_minor": 0
}
