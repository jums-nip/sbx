{
 "cells": [
  {
   "cell_type": "code",
   "execution_count": 0,
   "metadata": {
    "application/vnd.databricks.v1+cell": {
     "cellMetadata": {
      "byteLimit": 2048000,
      "rowLimit": 10000
     },
     "inputWidgets": {},
     "nuid": "7a73162c-5703-4ef4-a49d-6784112adead",
     "showTitle": false,
     "tableResultSettingsMap": {},
     "title": ""
    }
   },
   "outputs": [],
   "source": [
    "import re"
   ]
  },
  {
   "cell_type": "code",
   "execution_count": 0,
   "metadata": {
    "application/vnd.databricks.v1+cell": {
     "cellMetadata": {
      "byteLimit": 2048000,
      "rowLimit": 10000
     },
     "inputWidgets": {},
     "nuid": "cc4577dc-03b0-4055-a724-e9714a7abc99",
     "showTitle": false,
     "tableResultSettingsMap": {},
     "title": ""
    }
   },
   "outputs": [],
   "source": [
    "\n",
    "dbutils.widgets.text(\"file_name\", \"\")\n",
    "file_name = dbutils.widgets.get(\"file_name\")\n",
    "\n",
    "match = re.match(r\"([^-]+)-bordereaux.*\", file_name)\n",
    "if match:\n",
    "    table_name = match.group(1)\n",
    "else:\n",
    "    raise ValueError(\"Invalid file name format. Expected format: <table>-bordereaux-<year>.csv\")\n",
    "\n",
    "excel_file_path = f\"/mnt/bordereaux/bronze/{file_name}\"\n",
    "delta_table = f\"hive_metastore.bordereaux.{table_name}\"\n",
    "\n",
    "df = spark.read.csv(\n",
    "    excel_file_path,\n",
    "    header=True,\n",
    "    inferSchema=True,\n",
    "    multiLine=True,         # In case some fields have line breaks\n",
    "    quote='\"',              # Properly handle comma-separated quoted fields\n",
    "    escape='\"',             # Handle quotes inside quoted fields\n",
    "    mode=\"PERMISSIVE\"       # Handle malformed lines gracefully\n",
    ")\n",
    "\n",
    "\n",
    "dbutils.widgets.text(\"file_name\", \"\")\n",
    "file_name = dbutils.widgets.get(\"file_name\")\n",
    "\n",
    "match = re.match(r\"([^-]+)-bordereaux.*\", file_name)\n",
    "if match:\n",
    "    table_name = match.group(1)\n",
    "else:\n",
    "    raise ValueError(\"Invalid file name format. Expected format: <table>-bordereaux-<year>.csv\")\n",
    "\n",
    "excel_file_path = f\"/mnt/bordereaux/bronze/{file_name}\"\n",
    "delta_table = f\"hive_metastore.bordereaux.{table_name}\"\n",
    "\n",
    "df = spark.read.csv(\n",
    "    excel_file_path,\n",
    "    header=True,\n",
    "    inferSchema=True,\n",
    "    multiLine=True,         # In case some fields have line breaks\n",
    "    quote='\"',              # Properly handle comma-separated quoted fields\n",
    "    escape='\"',             # Handle quotes inside quoted fields\n",
    "    mode=\"PERMISSIVE\"       # Handle malformed lines gracefully\n",
    ")\n",
    "\n",
    "# Drop the table if it exists\n",
    "spark.sql(f\"DROP TABLE IF EXISTS {delta_table}\")\n",
    "\n",
    "# Then create/load the new table\n",
    "df.write.format(\"delta\") \\\n",
    "    .mode(\"overwrite\") \\\n",
    "    .option(\"truncate\", \"true\") \\\n",
    "    .saveAsTable(delta_table)\n",
    "\n"
   ]
  }
 ],
 "metadata": {
  "application/vnd.databricks.v1+notebook": {
   "computePreferences": null,
   "dashboards": [],
   "environmentMetadata": {
    "base_environment": "",
    "environment_version": "2"
   },
   "inputWidgetPreferences": {
    "autoRunOnWidgetChange": "no-auto-run"
   },
   "language": "python",
   "notebookMetadata": {
    "pythonIndentUnit": 4
   },
   "notebookName": "bordereaux_data_load_v2.1",
   "widgets": {
    "file_name": {
     "currentValue": "property-bordereaux-2019.csv",
     "nuid": "e983b43b-d214-43a6-b8f3-5a03dcf70b4b",
     "typedWidgetInfo": {
      "autoCreated": false,
      "defaultValue": "",
      "label": null,
      "name": "file_name",
      "options": {
       "widgetDisplayType": "Text",
       "validationRegex": null
      },
      "parameterDataType": "String"
     },
     "widgetInfo": {
      "widgetType": "text",
      "defaultValue": "",
      "label": null,
      "name": "file_name",
      "options": {
       "widgetType": "text",
       "autoCreated": null,
       "validationRegex": null
      }
     }
    }
   }
  },
  "language_info": {
   "name": "python"
  }
 },
 "nbformat": 4,
 "nbformat_minor": 0
}
