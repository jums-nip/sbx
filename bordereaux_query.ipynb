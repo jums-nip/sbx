{
 "cells": [
  {
   "cell_type": "code",
   "execution_count": 0,
   "metadata": {
    "application/vnd.databricks.v1+cell": {
     "cellMetadata": {
      "byteLimit": 2048000,
      "implicitDf": true,
      "rowLimit": 10000
     },
     "inputWidgets": {},
     "nuid": "eb104bf1-11ff-499e-b599-32ca9f1879a6",
     "showTitle": false,
     "tableResultSettingsMap": {},
     "title": ""
    }
   },
   "outputs": [],
   "source": [
    "%sql\n",
    "\n",
    "CREATE SCHEMA IF NOT EXISTS hive_metastore.bordereaux"
   ]
  },
  {
   "cell_type": "code",
   "execution_count": 0,
   "metadata": {
    "application/vnd.databricks.v1+cell": {
     "cellMetadata": {
      "byteLimit": 2048000,
      "implicitDf": true,
      "rowLimit": 10000
     },
     "inputWidgets": {},
     "nuid": "43200815-2e7f-4fcc-bc43-589dfe0cf7e3",
     "showTitle": false,
     "tableResultSettingsMap": {},
     "title": ""
    }
   },
   "outputs": [],
   "source": [
    "# %sql\n",
    "\n",
    "# DROP SCHEMA IF EXISTS hive_metastore.bordereaux CASCADE"
   ]
  },
  {
   "cell_type": "code",
   "execution_count": 0,
   "metadata": {
    "application/vnd.databricks.v1+cell": {
     "cellMetadata": {
      "byteLimit": 2048000,
      "implicitDf": true,
      "rowLimit": 10000
     },
     "collapsed": true,
     "inputWidgets": {},
     "nuid": "e4b43371-f8d9-4d0d-a375-a993d58ebf49",
     "showTitle": false,
     "tableResultSettingsMap": {
      "0": {
       "dataGridStateBlob": "{\"version\":1,\"tableState\":{\"columnPinning\":{\"left\":[\"#row_number#\"],\"right\":[]},\"columnSizing\":{},\"columnVisibility\":{}},\"settings\":{\"columns\":{}},\"syncTimestamp\":1756147245539}",
       "filterBlob": null,
       "queryPlanFiltersBlob": null,
       "tableResultIndex": 0
      }
     },
     "title": ""
    }
   },
   "outputs": [],
   "source": [
    "%sql\n",
    "SELECT a.policy_number, a.endorsement_number, a.commit_date, a.coverage_premium, a.terrorism_premium, \n",
    "         COALESCE(a.coverage_premium, 0) + COALESCE(a.terrorism_premium, 0) AS gross_premium\n",
    "  FROM hive_metastore.bordereaux.agricultural a WHERE a.policy_number = 'NCF-1009564-00' AND a.endorsement_number = '4'"
   ]
  },
  {
   "cell_type": "code",
   "execution_count": 0,
   "metadata": {
    "application/vnd.databricks.v1+cell": {
     "cellMetadata": {
      "byteLimit": 2048000,
      "implicitDf": true,
      "rowLimit": 10000
     },
     "collapsed": true,
     "inputWidgets": {},
     "nuid": "f6743196-13a5-42e2-aa14-865ff336f2eb",
     "showTitle": false,
     "tableResultSettingsMap": {},
     "title": ""
    }
   },
   "outputs": [],
   "source": [
    "%sql\n",
    "WITH policy_list AS (\n",
    "  SELECT 'NBA-1000305-01' AS policy_number, 1 AS endorsement_number\n",
    "),\n",
    "params AS (\n",
    "  SELECT\n",
    "    DATE '2020-01-01' AS start_date,\n",
    "    DATE '2020-12-31' AS end_date\n",
    "),\n",
    "combined AS (\n",
    "  SELECT 'agricultural' AS source_table, a.policy_number, a.endorsement_number, a.commit_date,\n",
    "         COALESCE(a.coverage_premium, 0) + COALESCE(a.terrorism_premium, 0) AS gross_premium\n",
    "  FROM hive_metastore.bordereaux.agricultural a\n",
    "  JOIN policy_list pl ON a.policy_number = pl.policy_number\n",
    "                     AND a.endorsement_number = pl.endorsement_number\n",
    "  JOIN params p ON CAST(a.commit_date AS DATE) >= p.start_date\n",
    "               AND CAST(a.commit_date AS DATE) < p.end_date\n",
    " \n",
    "  UNION ALL\n",
    " \n",
    "  SELECT 'auto_commercial', ac.policy_number, ac.endorsement_number, ac.commit_date,\n",
    "         ac.prorated_prem AS gross_premium\n",
    "  FROM hive_metastore.bordereaux.commercial_auto ac\n",
    "  JOIN policy_list pl ON ac.policy_number = pl.policy_number\n",
    "                     AND ac.endorsement_number = pl.endorsement_number\n",
    "  JOIN params p ON CAST(ac.commit_date AS DATE) >= p.start_date\n",
    "               AND CAST(ac.commit_date AS DATE) < p.end_date\n",
    " \n",
    "  UNION ALL\n",
    " \n",
    "  SELECT 'inland_marine', im.policy_number, im.endorsement_number, im.commit_date,\n",
    "         im.prorate_premium AS gross_premium\n",
    "  FROM hive_metastore.bordereaux.inland_marine im\n",
    "  JOIN policy_list pl ON im.policy_number = pl.policy_number\n",
    "                     AND im.endorsement_number = pl.endorsement_number\n",
    "  JOIN params p ON CAST(im.commit_date AS DATE) >= p.start_date\n",
    "               AND CAST(im.commit_date AS DATE) < p.end_date\n",
    " \n",
    "  UNION ALL\n",
    " \n",
    "  SELECT 'property', pr.policy_number, pr.endorsement_number, pr.commit_date,\n",
    "         pr.coverage_premium AS gross_premium\n",
    "  FROM hive_metastore.bordereaux.property pr\n",
    "  JOIN policy_list pl ON pr.policy_number = pl.policy_number\n",
    "                     AND pr.endorsement_number = pl.endorsement_number\n",
    "  JOIN params p ON CAST(pr.commit_date AS DATE) >= p.start_date\n",
    "               AND CAST(pr.commit_date AS DATE) < p.end_date\n",
    " \n",
    "  UNION ALL\n",
    " \n",
    "  SELECT 'crime', c.policy_number, c.endorsement_number, c.commit_date,\n",
    "         c.pro_rate AS gross_premium\n",
    "  FROM hive_metastore.bordereaux.crime c\n",
    "  JOIN policy_list pl ON c.policy_number = pl.policy_number\n",
    "                     AND c.endorsement_number = pl.endorsement_number\n",
    "  JOIN params p ON CAST(c.commit_date AS DATE) >= p.start_date\n",
    "               AND CAST(c.commit_date AS DATE) < p.end_date\n",
    " \n",
    "  UNION ALL\n",
    " \n",
    "  SELECT 'liability', l.policy_number, l.endorsement_number, l.commit_date,\n",
    "         l.premium AS gross_premium\n",
    "  FROM hive_metastore.bordereaux.liability l\n",
    "  JOIN policy_list pl ON l.policy_number = pl.policy_number\n",
    "                     AND l.endorsement_number = pl.endorsement_number\n",
    "  JOIN params p ON CAST(l.commit_date AS DATE) >= p.start_date\n",
    "               AND CAST(l.commit_date AS DATE) < p.end_date\n",
    ")\n",
    " \n",
    "SELECT source_table, policy_number, endorsement_number, commit_date,\n",
    "       SUM(gross_premium) AS total_gross_premium\n",
    "FROM combined\n",
    "GROUP BY source_table, policy_number, endorsement_number, commit_date\n",
    "ORDER BY source_table, commit_date;"
   ]
  },
  {
   "cell_type": "code",
   "execution_count": 0,
   "metadata": {
    "application/vnd.databricks.v1+cell": {
     "cellMetadata": {
      "byteLimit": 2048000,
      "implicitDf": true,
      "rowLimit": 10000
     },
     "inputWidgets": {},
     "nuid": "df78aa1f-a133-4a25-ab9b-9f41a22f7fda",
     "showTitle": false,
     "tableResultSettingsMap": {},
     "title": ""
    }
   },
   "outputs": [],
   "source": [
    "df = spark.sql(\"SELECT policy_number, commit_date, 'auto_commercial' FROM hive_metastore.bordereaux.auto_commercial LIMIT 2;\")\n",
    "df.display()\n",
    "\n",
    "df = spark.sql(\"SELECT policy_number, commit_date, 'crime' FROM hive_metastore.bordereaux.crime LIMIT 2;\")\n",
    "df.display()\n",
    "\n",
    "df = spark.sql(\"SELECT policy_number, commit_date, 'fee' FROM hive_metastore.bordereaux.fee LIMIT 2;\")\n",
    "df.display()\n",
    "\n",
    "df = spark.sql(\"SELECT policy_number, commit_date, 'inland_marine' FROM hive_metastore.bordereaux.inland_marine LIMIT 2;\")\n",
    "df.display()"
   ]
  },
  {
   "cell_type": "code",
   "execution_count": 0,
   "metadata": {
    "application/vnd.databricks.v1+cell": {
     "cellMetadata": {
      "byteLimit": 2048000,
      "rowLimit": 10000
     },
     "inputWidgets": {},
     "nuid": "c7aca122-467f-4c7b-9d9f-687e851c9362",
     "showTitle": false,
     "tableResultSettingsMap": {},
     "title": ""
    }
   },
   "outputs": [],
   "source": [
    "df = spark.sql(\"SELECT MAX(YEAR(policy_effective_date)) AS year FROM hive_metastore.bordereaux.agricultural_cleaned;\")\n",
    "df.display()\n",
    "\n",
    "df = spark.sql(\"SELECT policy_effective_date FROM hive_metastore.bordereaux.agricultural_cleaned ORDER BY policy_effective_date DESC;\")\n",
    "df.display()"
   ]
  },
  {
   "cell_type": "code",
   "execution_count": 0,
   "metadata": {
    "application/vnd.databricks.v1+cell": {
     "cellMetadata": {
      "byteLimit": 2048000,
      "rowLimit": 10000
     },
     "inputWidgets": {},
     "nuid": "82d2c8b3-8328-42b1-84d8-001f58efe10c",
     "showTitle": false,
     "tableResultSettingsMap": {},
     "title": ""
    }
   },
   "outputs": [],
   "source": [
    "# from pyspark.sql import SparkSession\n",
    "\n",
    "# spark.sql(\"CREATE SCHEMA IF NOT EXISTS hive_metastore.bordereaux;\")"
   ]
  },
  {
   "cell_type": "code",
   "execution_count": 0,
   "metadata": {
    "application/vnd.databricks.v1+cell": {
     "cellMetadata": {
      "byteLimit": 2048000,
      "rowLimit": 10000
     },
     "inputWidgets": {},
     "nuid": "3820e526-dbca-4268-9a22-9ed1086978d1",
     "showTitle": false,
     "tableResultSettingsMap": {},
     "title": ""
    }
   },
   "outputs": [],
   "source": [
    "# files = dbutils.fs.ls(\"/mnt/bordereaux/bronze/2020\")\n",
    "# file_name = \"agricultural-bordereaux-2020.csv\"\n",
    "# any(file_info.name == file_name for file_info in files) "
   ]
  },
  {
   "cell_type": "code",
   "execution_count": 0,
   "metadata": {
    "application/vnd.databricks.v1+cell": {
     "cellMetadata": {
      "byteLimit": 2048000,
      "rowLimit": 10000
     },
     "inputWidgets": {},
     "nuid": "a943cf5b-3858-4cc1-b766-5ff42e9dfa57",
     "showTitle": false,
     "tableResultSettingsMap": {
      "0": {
       "dataGridStateBlob": "{\"version\":1,\"tableState\":{\"columnPinning\":{\"left\":[\"#row_number#\"],\"right\":[]},\"columnSizing\":{},\"columnVisibility\":{}},\"settings\":{\"columns\":{}},\"syncTimestamp\":1755180821675}",
       "filterBlob": null,
       "queryPlanFiltersBlob": null,
       "tableResultIndex": 0
      }
     },
     "title": ""
    }
   },
   "outputs": [],
   "source": [
    "df = spark.sql(f\"SELECT MAX(YEAR(policy_effective_date)) AS year FROM hive_metastore.bordereaux.commercial_auto;\")\n",
    "display(df)\n",
    "df = spark.sql(\"SELECT DISTINCT YEAR(policy_effective_date) AS year_distinct FROM hive_metastore.bordereaux.commercial_auto ORDER BY year_distinct DESC;\")\n",
    "display(df)\n",
    "\n",
    "# # df = spark.sql(f\"SELECT DISTINCT policy_effective_date FROM hive_metastore.bordereaux.commercial_auto ORDER BY policy_effective_date;\")\n",
    "# # display(df)\n",
    "\n",
    "# df = spark.sql(f\"SELECT DISTINCT CAST(policy_effective_date AS DATE) FROM hive_metastore.bordereaux.commercial_auto ORDER BY policy_effective_date;\")\n",
    "# display(df)"
   ]
  },
  {
   "cell_type": "code",
   "execution_count": 0,
   "metadata": {
    "application/vnd.databricks.v1+cell": {
     "cellMetadata": {
      "byteLimit": 2048000,
      "rowLimit": 10000
     },
     "inputWidgets": {},
     "nuid": "4196ca1f-997a-4ce5-b2d0-5bb210057d40",
     "showTitle": false,
     "tableResultSettingsMap": {},
     "title": ""
    }
   },
   "outputs": [],
   "source": [
    "df = spark.sql(f\"SELECT DISTINCT policy_effective_date AS year_distinct FROM hive_metastore.bordereaux.commercial_auto ORDER BY year_distinct DESC;\")\n",
    "display(df)"
   ]
  },
  {
   "cell_type": "code",
   "execution_count": 0,
   "metadata": {
    "application/vnd.databricks.v1+cell": {
     "cellMetadata": {
      "byteLimit": 2048000,
      "rowLimit": 10000
     },
     "inputWidgets": {},
     "nuid": "ad48325e-efad-441b-9c66-f855365cf4fb",
     "showTitle": false,
     "tableResultSettingsMap": {},
     "title": ""
    }
   },
   "outputs": [],
   "source": [
    "df = spark.sql(f\"SELECT * FROM hive_metastore.bordereaux.commercial_auto WHERE policy_effective_date = 'Policy Effective Date';\")\n",
    "display(df)"
   ]
  },
  {
   "cell_type": "code",
   "execution_count": 0,
   "metadata": {
    "application/vnd.databricks.v1+cell": {
     "cellMetadata": {
      "byteLimit": 2048000,
      "rowLimit": 10000
     },
     "inputWidgets": {},
     "nuid": "03f3b02f-226a-471f-837e-8bbbeb9fca6b",
     "showTitle": false,
     "tableResultSettingsMap": {},
     "title": ""
    }
   },
   "outputs": [],
   "source": [
    "df = spark.sql(f\"SELECT * FROM hive_metastore.bordereaux.commercial_auto WHERE policy_effective_date = '44957';\")\n",
    "display(df)"
   ]
  },
  {
   "cell_type": "code",
   "execution_count": 0,
   "metadata": {
    "application/vnd.databricks.v1+cell": {
     "cellMetadata": {
      "byteLimit": 2048000,
      "rowLimit": 10000
     },
     "inputWidgets": {},
     "nuid": "945f39cb-56b7-4cb3-ab42-4070550c6785",
     "showTitle": false,
     "tableResultSettingsMap": {},
     "title": ""
    }
   },
   "outputs": [],
   "source": [
    "spark.sql(\"\"\"\n",
    "    DELETE FROM hive_metastore.bordereaux.commercial_auto\n",
    "    WHERE policy_effective_date = 'Policy Effective Date'\n",
    "\"\"\")"
   ]
  },
  {
   "cell_type": "code",
   "execution_count": 0,
   "metadata": {
    "application/vnd.databricks.v1+cell": {
     "cellMetadata": {
      "byteLimit": 2048000,
      "rowLimit": 10000
     },
     "inputWidgets": {},
     "nuid": "5ca2eb0d-16bf-497c-8ac5-e989bc2aa606",
     "showTitle": false,
     "tableResultSettingsMap": {},
     "title": ""
    }
   },
   "outputs": [],
   "source": [
    "for table in [\n",
    "    \"agricultural\", \"commercial_auto\", \"crime\", \"cyber\", \"epli\", \"equipment_breakdown\",\n",
    "    \"fee\", \"inland_marine\", \"liability\", \"property\", \"umbrella\"\n",
    "]:\n",
    "    df = spark.sql(f\"SELECT COUNT(*) AS total_row, MAX(YEAR(policy_effective_date)) AS year, '{table}' AS table_name FROM hive_metastore.bordereaux.{table};\")\n",
    "    display(df)\n",
    "    # df = spark.sql(f\"SELECT DISTINCT YEAR(policy_effective_date) AS year_distinct, '{table}' AS table_name FROM hive_metastore.bordereaux.{table} ORDER BY year_distinct DESC;\")\n",
    "    # display(df)"
   ]
  },
  {
   "cell_type": "code",
   "execution_count": 0,
   "metadata": {
    "application/vnd.databricks.v1+cell": {
     "cellMetadata": {
      "byteLimit": 2048000,
      "implicitDf": true,
      "rowLimit": 10000
     },
     "inputWidgets": {},
     "nuid": "5f4c5a76-6845-421e-beac-67781f461041",
     "showTitle": false,
     "tableResultSettingsMap": {
      "0": {
       "dataGridStateBlob": "{\"version\":1,\"tableState\":{\"columnPinning\":{\"left\":[\"#row_number#\"],\"right\":[]},\"columnSizing\":{},\"columnVisibility\":{}},\"settings\":{\"columns\":{}},\"syncTimestamp\":1758302462249}",
       "filterBlob": null,
       "queryPlanFiltersBlob": null,
       "tableResultIndex": 0
      }
     },
     "title": ""
    }
   },
   "outputs": [],
   "source": [
    "%sql\n",
    "\n",
    "SELECT COUNT(*) AS total_row, MAX(YEAR(policy_effective_date)) AS max_year, 'corp_dev' AS envi, 'agricultural' AS table_name FROM hive_metastore.bordereaux.agricultural\n",
    "UNION\n",
    "SELECT COUNT(*) AS total_row, MAX(YEAR(policy_effective_date)) AS max_year, 'corp_dev' AS envi, 'commercial_auto' AS table_name FROM hive_metastore.bordereaux.commercial_auto\n",
    "UNION\n",
    "SELECT COUNT(*) AS total_row, MAX(YEAR(policy_effective_date)) AS max_year, 'corp_dev' AS envi, 'crime' AS table_name FROM hive_metastore.bordereaux.crime\n",
    "UNION\n",
    "SELECT COUNT(*) AS total_row, MAX(YEAR(policy_effective_date)) AS max_year, 'corp_dev' AS envi, 'cyber' AS table_name FROM hive_metastore.bordereaux.cyber\n",
    "UNION\n",
    "SELECT COUNT(*) AS total_row, MAX(YEAR(policy_effective_date)) AS max_year, 'corp_dev' AS envi, 'epli' AS table_name FROM hive_metastore.bordereaux.epli\n",
    "UNION\n",
    "SELECT COUNT(*) AS total_row, MAX(YEAR(policy_effective_date)) AS max_year, 'corp_dev' AS envi, 'equipment_breakdown' AS table_name FROM hive_metastore.bordereaux.equipment_breakdown\n",
    "UNION\n",
    "SELECT COUNT(*) AS total_row, MAX(YEAR(policy_effective_date)) AS max_year, 'corp_dev' AS envi, 'fee' AS table_name FROM hive_metastore.bordereaux.fee\n",
    "UNION\n",
    "SELECT COUNT(*) AS total_row, MAX(YEAR(policy_effective_date)) AS max_year, 'corp_dev' AS envi, 'inland_marine' AS table_name FROM hive_metastore.bordereaux.inland_marine\n",
    "UNION\n",
    "SELECT COUNT(*) AS total_row, MAX(YEAR(policy_effective_date)) AS max_year, 'corp_dev' AS envi, 'liability' AS table_name FROM hive_metastore.bordereaux.liability\n",
    "UNION\n",
    "SELECT COUNT(*) AS total_row, MAX(YEAR(policy_effective_date)) AS max_year, 'corp_dev' AS envi, 'property' AS table_name FROM hive_metastore.bordereaux.property\n",
    "UNION\n",
    "SELECT COUNT(*) AS total_row, MAX(YEAR(policy_effective_date)) AS max_year, 'corp_dev' AS envi, 'umbrella' AS table_name FROM hive_metastore.bordereaux.umbrella"
   ]
  },
  {
   "cell_type": "code",
   "execution_count": 0,
   "metadata": {
    "application/vnd.databricks.v1+cell": {
     "cellMetadata": {
      "byteLimit": 2048000,
      "implicitDf": true,
      "rowLimit": 10000
     },
     "inputWidgets": {},
     "nuid": "7d23493f-52e1-435a-97eb-2fead8806d23",
     "showTitle": false,
     "tableResultSettingsMap": {
      "0": {
       "dataGridStateBlob": "{\"version\":1,\"tableState\":{\"columnPinning\":{\"left\":[\"#row_number#\"],\"right\":[]},\"columnSizing\":{},\"columnVisibility\":{}},\"settings\":{\"columns\":{}},\"syncTimestamp\":1758557793505}",
       "filterBlob": null,
       "queryPlanFiltersBlob": null,
       "tableResultIndex": 0
      }
     },
     "title": ""
    }
   },
   "outputs": [],
   "source": [
    "%sql\n",
    "\n",
    "SELECT COUNT(*) AS total_row, MAX(YEAR(policy_effective_date)) AS max_year, 'corp_dev' AS envi, 'agricultural' AS table_name FROM hive_metastore.bordereaux.agricultural\n",
    "UNION\n",
    "SELECT COUNT(*) AS total_row, MAX(YEAR(policy_effective_date)) AS max_year, 'corp_dev' AS envi, 'commercial_auto' AS table_name FROM hive_metastore.bordereaux.commercial_auto\n",
    "UNION\n",
    "SELECT COUNT(*) AS total_row, MAX(YEAR(policy_effective_date)) AS max_year, 'corp_dev' AS envi, 'crime' AS table_name FROM hive_metastore.bordereaux.crime\n",
    "UNION\n",
    "SELECT COUNT(*) AS total_row, MAX(YEAR(policy_effective_date)) AS max_year, 'corp_dev' AS envi, 'cyber' AS table_name FROM hive_metastore.bordereaux.cyber\n",
    "UNION\n",
    "SELECT COUNT(*) AS total_row, MAX(YEAR(policy_effective_date)) AS max_year, 'corp_dev' AS envi, 'epli' AS table_name FROM hive_metastore.bordereaux.epli\n",
    "UNION\n",
    "SELECT COUNT(*) AS total_row, MAX(YEAR(policy_effective_date)) AS max_year, 'corp_dev' AS envi, 'equipment_breakdown' AS table_name FROM hive_metastore.bordereaux.equipment_breakdown\n",
    "UNION\n",
    "SELECT COUNT(*) AS total_row, MAX(YEAR(policy_effective_date)) AS max_year, 'corp_dev' AS envi, 'fee' AS table_name FROM hive_metastore.bordereaux.fee\n",
    "UNION\n",
    "SELECT COUNT(*) AS total_row, MAX(YEAR(policy_effective_date)) AS max_year, 'corp_dev' AS envi, 'inland_marine' AS table_name FROM hive_metastore.bordereaux.inland_marine\n",
    "UNION\n",
    "SELECT COUNT(*) AS total_row, MAX(YEAR(policy_effective_date)) AS max_year, 'corp_dev' AS envi, 'liability' AS table_name FROM hive_metastore.bordereaux.liability\n",
    "UNION\n",
    "SELECT COUNT(*) AS total_row, MAX(YEAR(policy_effective_date)) AS max_year, 'corp_dev' AS envi, 'property' AS table_name FROM hive_metastore.bordereaux.property\n",
    "UNION\n",
    "SELECT COUNT(*) AS total_row, MAX(YEAR(policy_effective_date)) AS max_year, 'corp_dev' AS envi, 'umbrella' AS table_name FROM hive_metastore.bordereaux.umbrella"
   ]
  },
  {
   "cell_type": "code",
   "execution_count": 0,
   "metadata": {
    "application/vnd.databricks.v1+cell": {
     "cellMetadata": {
      "byteLimit": 2048000,
      "rowLimit": 10000
     },
     "inputWidgets": {},
     "nuid": "1e8efa22-8340-43b8-ac18-f11043f81673",
     "showTitle": false,
     "tableResultSettingsMap": {
      "0": {
       "dataGridStateBlob": "{\"version\":1,\"tableState\":{\"columnPinning\":{\"left\":[\"#row_number#\"],\"right\":[]},\"columnSizing\":{},\"columnVisibility\":{}},\"settings\":{\"columns\":{}},\"syncTimestamp\":1758553770090}",
       "filterBlob": null,
       "queryPlanFiltersBlob": null,
       "tableResultIndex": 0
      }
     },
     "title": ""
    }
   },
   "outputs": [],
   "source": [
    "# In a Databricks notebook cell\n",
    "schema_name = \"bordereaux\"  # Replace with your schema name\n",
    "\n",
    "# Get all table names in the schema\n",
    "tables_df = spark.sql(f\"SHOW TABLES IN {schema_name}\")\n",
    "table_names = [row.tableName for row in tables_df.collect()]\n",
    "\n",
    "# Get details for each table\n",
    "table_sizes = []\n",
    "for table_name in table_names:\n",
    "    try:\n",
    "        detail_df = spark.sql(f\"DESCRIBE DETAIL {schema_name}.{table_name}\")\n",
    "        detail = detail_df.collect()[0]\n",
    "        table_sizes.append({\n",
    "            'schema_name': schema_name,\n",
    "            'table_name': table_name,\n",
    "            'size_in_bytes': detail.sizeInBytes,\n",
    "            'size_in_mb': round(detail.sizeInBytes / (1024 * 1024), 2),\n",
    "            'size_in_gb': round(detail.sizeInBytes / (1024 * 1024 * 1024), 2),\n",
    "            'num_files': detail.numFiles,\n",
    "            'location': detail.location\n",
    "        })\n",
    "    except Exception as e:\n",
    "        print(f\"Error getting details for {table_name}: {e}\")\n",
    "\n",
    "# Convert to DataFrame and display\n",
    "sizes_df = spark.createDataFrame(table_sizes)\n",
    "display(sizes_df.orderBy('size_in_bytes', ascending=False))"
   ]
  },
  {
   "cell_type": "code",
   "execution_count": 0,
   "metadata": {
    "application/vnd.databricks.v1+cell": {
     "cellMetadata": {
      "byteLimit": 2048000,
      "implicitDf": true,
      "rowLimit": 10000
     },
     "inputWidgets": {},
     "nuid": "244e3ebc-3e5a-4ae7-a7e8-51f6b7d0fdad",
     "showTitle": false,
     "tableResultSettingsMap": {},
     "title": ""
    }
   },
   "outputs": [],
   "source": [
    "%sql\n",
    "\n",
    "USE hive_metastore.bordereaux;\n",
    "\n",
    "ALTER TABLE umbrella \n",
    "ALTER COLUMN policy_effective_date TYPE DATE;"
   ]
  }
 ],
 "metadata": {
  "application/vnd.databricks.v1+notebook": {
   "computePreferences": null,
   "dashboards": [],
   "environmentMetadata": {
    "base_environment": "",
    "environment_version": "2"
   },
   "inputWidgetPreferences": null,
   "language": "python",
   "notebookMetadata": {
    "mostRecentlyExecutedCommandWithImplicitDF": {
     "commandId": 5137995657488627,
     "dataframes": [
      "_sqldf"
     ]
    },
    "pythonIndentUnit": 4
   },
   "notebookName": "bordereaux_query",
   "widgets": {}
  },
  "language_info": {
   "name": "python"
  }
 },
 "nbformat": 4,
 "nbformat_minor": 0
}
