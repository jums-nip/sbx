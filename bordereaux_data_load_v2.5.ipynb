{
 "cells": [
  {
   "cell_type": "code",
   "execution_count": 0,
   "metadata": {
    "application/vnd.databricks.v1+cell": {
     "cellMetadata": {
      "byteLimit": 2048000,
      "rowLimit": 10000
     },
     "inputWidgets": {},
     "nuid": "7a73162c-5703-4ef4-a49d-6784112adead",
     "showTitle": false,
     "tableResultSettingsMap": {},
     "title": ""
    }
   },
   "outputs": [],
   "source": [
    "import re"
   ]
  },
  {
   "cell_type": "code",
   "execution_count": 0,
   "metadata": {
    "application/vnd.databricks.v1+cell": {
     "cellMetadata": {
      "byteLimit": 2048000,
      "rowLimit": 10000
     },
     "inputWidgets": {},
     "nuid": "cc4577dc-03b0-4055-a724-e9714a7abc99",
     "showTitle": false,
     "tableResultSettingsMap": {},
     "title": ""
    }
   },
   "outputs": [],
   "source": [
    "dbutils.widgets.text(\"file_name\", \"\")\n",
    "file_name = dbutils.widgets.get(\"file_name\")\n",
    "\n",
    "dbutils.widgets.text(\"year\", \"\")\n",
    "year = dbutils.widgets.get(\"year\")\n",
    "\n",
    "match = re.match(r\"([^-]+)-bordereaux.*\", file_name)\n",
    "if match:\n",
    "    if file_name.find(year) == -1:\n",
    "        raise ValueError(\"Coverage year should match the file name\")\n",
    "\n",
    "    table_name = match.group(1)\n",
    "else:\n",
    "    raise ValueError(\"Invalid file name format. Expected format: <table>-bordereaux-<year>.csv\")\n",
    "\n",
    "excel_file_path = f\"/mnt/bordereaux/bronze/{year}/{file_name}\"\n",
    "delta_table = f\"hive_metastore.bordereaux.{table_name}_cleaned\"\n",
    "\n",
    "df = spark.read.csv(\n",
    "    excel_file_path,\n",
    "    header=True,\n",
    "    inferSchema=False,\n",
    "    multiLine=True,         # In case some fields have line breaks\n",
    "    quote='\"',              # Properly handle comma-separated quoted fields\n",
    "    escape='\"',             # Handle quotes inside quoted fields\n",
    "    mode=\"PERMISSIVE\"       # Handle malformed lines gracefully\n",
    ")\n",
    "\n",
    "# Then load data in the bordereaux delta table\n",
    "df.write.format(\"delta\") \\\n",
    "    .mode(\"append\") \\\n",
    "    .option(\"mergeSchema\", \"true\") \\\n",
    "    .saveAsTable(delta_table)"
   ]
  }
 ],
 "metadata": {
  "application/vnd.databricks.v1+notebook": {
   "computePreferences": null,
   "dashboards": [],
   "environmentMetadata": {
    "base_environment": "",
    "environment_version": "2"
   },
   "inputWidgetPreferences": {
    "autoRunOnWidgetChange": "no-auto-run"
   },
   "language": "python",
   "notebookMetadata": {
    "pythonIndentUnit": 4
   },
   "notebookName": "bordereaux_data_load_v2.5",
   "widgets": {
    "file_name": {
     "currentValue": "commercial_auto-bordereaux-2020.csv",
     "nuid": "e983b43b-d214-43a6-b8f3-5a03dcf70b4b",
     "typedWidgetInfo": {
      "autoCreated": false,
      "defaultValue": "",
      "label": null,
      "name": "file_name",
      "options": {
       "widgetDisplayType": "Text",
       "validationRegex": null
      },
      "parameterDataType": "String"
     },
     "widgetInfo": {
      "widgetType": "text",
      "defaultValue": "",
      "label": null,
      "name": "file_name",
      "options": {
       "widgetType": "text",
       "autoCreated": null,
       "validationRegex": null
      }
     }
    },
    "year": {
     "currentValue": "2020",
     "nuid": "70138063-3073-4233-b41c-d081122592f4",
     "typedWidgetInfo": {
      "autoCreated": false,
      "defaultValue": "",
      "label": null,
      "name": "year",
      "options": {
       "widgetDisplayType": "Text",
       "validationRegex": null
      },
      "parameterDataType": "String"
     },
     "widgetInfo": {
      "widgetType": "text",
      "defaultValue": "",
      "label": null,
      "name": "year",
      "options": {
       "widgetType": "text",
       "autoCreated": null,
       "validationRegex": null
      }
     }
    }
   }
  },
  "language_info": {
   "name": "python"
  }
 },
 "nbformat": 4,
 "nbformat_minor": 0
}
