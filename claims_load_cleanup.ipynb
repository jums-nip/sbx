{
 "cells": [
  {
   "cell_type": "code",
   "execution_count": 0,
   "metadata": {
    "application/vnd.databricks.v1+cell": {
     "cellMetadata": {
      "byteLimit": 2048000,
      "implicitDf": true,
      "rowLimit": 10000
     },
     "inputWidgets": {},
     "nuid": "0c06daf5-ec40-4607-a4fd-14c63728d606",
     "showTitle": true,
     "tableResultSettingsMap": {},
     "title": "Create schema if not exists"
    }
   },
   "outputs": [],
   "source": [
    "%sql\n",
    "\n",
    "CREATE SCHEMA IF NOT EXISTS hive_metastore.claims"
   ]
  },
  {
   "cell_type": "code",
   "execution_count": 0,
   "metadata": {
    "application/vnd.databricks.v1+cell": {
     "cellMetadata": {
      "byteLimit": 2048000,
      "implicitDf": true,
      "rowLimit": 10000
     },
     "inputWidgets": {},
     "nuid": "5204caaf-9c83-48c3-86fa-c20f568af1d9",
     "showTitle": false,
     "tableResultSettingsMap": {},
     "title": ""
    }
   },
   "outputs": [],
   "source": [
    "# %sql\n",
    "\n",
    "# DROP TABLE IF EXISTS hive_metastore.claims.check_register"
   ]
  },
  {
   "cell_type": "code",
   "execution_count": 0,
   "metadata": {
    "application/vnd.databricks.v1+cell": {
     "cellMetadata": {
      "byteLimit": 2048000,
      "rowLimit": 10000
     },
     "inputWidgets": {},
     "nuid": "ecee6bbd-f246-43f3-b239-5edc6e4ee282",
     "showTitle": false,
     "tableResultSettingsMap": {},
     "title": ""
    }
   },
   "outputs": [],
   "source": [
    "file_name = \"check-register.csv\"\n",
    "table_name = \"check_register\"\n",
    "excel_file_path = f\"/mnt/claims/{file_name}\"\n",
    "\n",
    "delta_table = f\"hive_metastore.claims.{table_name}\"\n",
    "\n",
    "# Read the CSV file into a Spark DataFrame\n",
    "df_claims = spark.read.csv(excel_file_path, header=True, inferSchema=True)\n",
    "# display(df_claims)\n",
    "\n",
    "df_claims.write.format(\"delta\") \\\n",
    "        .mode(\"overwrite\") \\\n",
    "        .option(\"truncate\", \"true\") \\\n",
    "        .saveAsTable(delta_table)"
   ]
  },
  {
   "cell_type": "code",
   "execution_count": 0,
   "metadata": {
    "application/vnd.databricks.v1+cell": {
     "cellMetadata": {
      "byteLimit": 2048000,
      "implicitDf": true,
      "rowLimit": 10000
     },
     "inputWidgets": {},
     "nuid": "418e8b16-4889-411a-81de-1508692db586",
     "showTitle": false,
     "tableResultSettingsMap": {},
     "title": ""
    }
   },
   "outputs": [],
   "source": [
    "%sql\n",
    "SELECT COUNT(*) FROM hive_metastore.claims.check_register"
   ]
  },
  {
   "cell_type": "code",
   "execution_count": 0,
   "metadata": {
    "application/vnd.databricks.v1+cell": {
     "cellMetadata": {
      "byteLimit": 2048000,
      "implicitDf": true,
      "rowLimit": 10000
     },
     "inputWidgets": {},
     "nuid": "48ca680d-76e2-4cb0-bf84-14a9239eebec",
     "showTitle": false,
     "tableResultSettingsMap": {},
     "title": ""
    }
   },
   "outputs": [],
   "source": [
    "# %sql\n",
    "\n",
    "# DROP TABLE IF EXISTS hive_metastore.claims.check_register_detail"
   ]
  },
  {
   "cell_type": "code",
   "execution_count": 0,
   "metadata": {
    "application/vnd.databricks.v1+cell": {
     "cellMetadata": {
      "byteLimit": 2048000,
      "rowLimit": 10000
     },
     "inputWidgets": {},
     "nuid": "d8eec0cf-ba55-4d94-a4d3-a77b378dc7b1",
     "showTitle": false,
     "tableResultSettingsMap": {},
     "title": ""
    }
   },
   "outputs": [],
   "source": [
    "file_name = \"check-register-detail.csv\"\n",
    "table_name = \"check_register_detail\"\n",
    "excel_file_path = f\"/mnt/claims/{file_name}\"\n",
    "\n",
    "delta_table = f\"hive_metastore.claims.{table_name}\"\n",
    "\n",
    "# Read the CSV file into a Spark DataFrame\n",
    "df_claims = spark.read.csv(excel_file_path, header=True, inferSchema=True)\n",
    "# display(df_claims)\n",
    "\n",
    "df_claims.write.format(\"delta\") \\\n",
    "        .mode(\"overwrite\") \\\n",
    "        .option(\"truncate\", \"true\") \\\n",
    "        .saveAsTable(delta_table)"
   ]
  },
  {
   "cell_type": "code",
   "execution_count": 0,
   "metadata": {
    "application/vnd.databricks.v1+cell": {
     "cellMetadata": {
      "byteLimit": 2048000,
      "implicitDf": true,
      "rowLimit": 10000
     },
     "inputWidgets": {},
     "nuid": "72bc6afa-50b9-4dc2-bbbb-7639dc50037c",
     "showTitle": false,
     "tableResultSettingsMap": {},
     "title": ""
    }
   },
   "outputs": [],
   "source": [
    "%sql\n",
    "SELECT COUNT(*) FROM hive_metastore.claims.check_register_detail"
   ]
  }
 ],
 "metadata": {
  "application/vnd.databricks.v1+notebook": {
   "computePreferences": null,
   "dashboards": [],
   "environmentMetadata": {
    "base_environment": "",
    "environment_version": "2"
   },
   "inputWidgetPreferences": null,
   "language": "python",
   "notebookMetadata": {
    "mostRecentlyExecutedCommandWithImplicitDF": {
     "commandId": 6697967945534332,
     "dataframes": [
      "_sqldf"
     ]
    },
    "pythonIndentUnit": 4
   },
   "notebookName": "claims_load_cleanup",
   "widgets": {}
  },
  "language_info": {
   "name": "python"
  }
 },
 "nbformat": 4,
 "nbformat_minor": 0
}
