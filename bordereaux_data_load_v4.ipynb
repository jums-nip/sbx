{
 "cells": [
  {
   "cell_type": "code",
   "execution_count": 0,
   "metadata": {
    "application/vnd.databricks.v1+cell": {
     "cellMetadata": {
      "byteLimit": 2048000,
      "rowLimit": 10000
     },
     "inputWidgets": {},
     "nuid": "cc4577dc-03b0-4055-a724-e9714a7abc99",
     "showTitle": false,
     "tableResultSettingsMap": {},
     "title": ""
    }
   },
   "outputs": [],
   "source": [
    "import re\n",
    "\n",
    "dbutils.widgets.text(\"table_name\", \"\")\n",
    "table_name = dbutils.widgets.get(\"table_name\")\n",
    "\n",
    "dbutils.widgets.text(\"year\", \"\")\n",
    "year = dbutils.widgets.get(\"year\")\n",
    "\n",
    "file_name = f\"{table_name}-bordereaux-{year}.csv\"\n",
    "file_mount = f\"/mnt/bordereaux/bronze/{year}\"\n",
    "\n",
    "# Check if file is in the mount, raise information, then end\n",
    "if not any(file_info.name == file_name for file_info in dbutils.fs.ls(file_mount)):\n",
    "    dbutils.notebook.exit(f\"File {file_name} not found in {file_mount}.\")\n",
    "                     \n",
    "excel_file_path = f\"{file_mount}/{file_name}\"\n",
    "delta_table = f\"hive_metastore.bordereaux.{table_name}\"\n",
    "\n",
    "df = spark.read.csv(\n",
    "    excel_file_path,\n",
    "    header=True,\n",
    "    inferSchema=False,\n",
    "    multiLine=True,         # In case some fields have line breaks\n",
    "    quote='\"',              # Properly handle comma-separated quoted fields\n",
    "    escape='\"',             # Handle quotes inside quoted fields\n",
    "    mode=\"PERMISSIVE\"       # Handle malformed lines gracefully\n",
    ")\n",
    "\n",
    "# Then load data in the bordereaux delta table\n",
    "df.write.format(\"delta\") \\\n",
    "    .mode(\"append\") \\\n",
    "    .option(\"mergeSchema\", \"true\") \\\n",
    "    .saveAsTable(delta_table)"
   ]
  }
 ],
 "metadata": {
  "application/vnd.databricks.v1+notebook": {
   "computePreferences": null,
   "dashboards": [],
   "environmentMetadata": {
    "base_environment": "",
    "environment_version": "2"
   },
   "inputWidgetPreferences": {
    "autoRunOnWidgetChange": "no-auto-run"
   },
   "language": "python",
   "notebookMetadata": {
    "pythonIndentUnit": 4
   },
   "notebookName": "bordereaux_data_load_v4",
   "widgets": {
    "table_name": {
     "currentValue": "",
     "nuid": "eab3dbdf-e705-41b0-ac90-c12782cb2686",
     "typedWidgetInfo": {
      "autoCreated": false,
      "defaultValue": "",
      "label": null,
      "name": "table_name",
      "options": {
       "widgetDisplayType": "Text",
       "validationRegex": null
      },
      "parameterDataType": "String"
     },
     "widgetInfo": {
      "widgetType": "text",
      "defaultValue": "",
      "label": null,
      "name": "table_name",
      "options": {
       "widgetType": "text",
       "autoCreated": false,
       "validationRegex": null
      }
     }
    },
    "year": {
     "currentValue": "",
     "nuid": "70138063-3073-4233-b41c-d081122592f4",
     "typedWidgetInfo": {
      "autoCreated": false,
      "defaultValue": "",
      "label": null,
      "name": "year",
      "options": {
       "widgetDisplayType": "Text",
       "validationRegex": null
      },
      "parameterDataType": "String"
     },
     "widgetInfo": {
      "widgetType": "text",
      "defaultValue": "",
      "label": null,
      "name": "year",
      "options": {
       "widgetType": "text",
       "autoCreated": null,
       "validationRegex": null
      }
     }
    }
   }
  },
  "language_info": {
   "name": "python"
  }
 },
 "nbformat": 4,
 "nbformat_minor": 0
}
