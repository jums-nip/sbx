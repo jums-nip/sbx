{
 "cells": [
  {
   "cell_type": "code",
   "execution_count": 0,
   "metadata": {
    "application/vnd.databricks.v1+cell": {
     "cellMetadata": {
      "byteLimit": 2048000,
      "implicitDf": true,
      "rowLimit": 10000
     },
     "inputWidgets": {},
     "nuid": "331d9694-62d1-470f-b5f0-f9215c80392e",
     "showTitle": false,
     "tableResultSettingsMap": {},
     "title": ""
    }
   },
   "outputs": [],
   "source": [
    "# %sql\n",
    "\n",
    "# DROP TABLE IF EXISTS hive_metastore.bordereaux.agricultural_cleaned;\n",
    "# DROP TABLE IF EXISTS hive_metastore.bordereaux.commercial_auto_cleaned;\n",
    "# DROP TABLE IF EXISTS hive_metastore.bordereaux.crime_cleaned;\n",
    "# DROP TABLE IF EXISTS hive_metastore.bordereaux.equipment_breakdown_cleaned;\n",
    "# DROP TABLE IF EXISTS hive_metastore.bordereaux.fees_cleaned;\n",
    "# DROP TABLE IF EXISTS hive_metastore.bordereaux.inland_marine_cleaned;\n",
    "# DROP TABLE IF EXISTS hive_metastore.bordereaux.liability_cleaned;\n",
    "# Drop TABLE IF EXISTS hive_metastore.bordereaux.property_cleaned;"
   ]
  },
  {
   "cell_type": "code",
   "execution_count": 0,
   "metadata": {
    "application/vnd.databricks.v1+cell": {
     "cellMetadata": {
      "byteLimit": 2048000,
      "implicitDf": true,
      "rowLimit": 10000
     },
     "inputWidgets": {},
     "nuid": "97f5993c-bf93-4729-acf9-141364aed50c",
     "showTitle": false,
     "tableResultSettingsMap": {},
     "title": ""
    }
   },
   "outputs": [],
   "source": [
    "%sql\n",
    "\n",
    "DROP SCHEMA IF EXISTS hive_metastore.bdx_cleaned_unique CASCADE"
   ]
  },
  {
   "cell_type": "code",
   "execution_count": 0,
   "metadata": {
    "application/vnd.databricks.v1+cell": {
     "cellMetadata": {
      "byteLimit": 2048000,
      "implicitDf": true,
      "rowLimit": 10000
     },
     "inputWidgets": {},
     "nuid": "55a07fef-724c-46cd-beaf-4045bfd97580",
     "showTitle": false,
     "tableResultSettingsMap": {},
     "title": ""
    }
   },
   "outputs": [],
   "source": [
    "%sql\n",
    "\n",
    "CREATE SCHEMA IF NOT EXISTS hive_metastore.bdx_TEST;"
   ]
  },
  {
   "cell_type": "code",
   "execution_count": 0,
   "metadata": {
    "application/vnd.databricks.v1+cell": {
     "cellMetadata": {
      "byteLimit": 2048000,
      "implicitDf": true,
      "rowLimit": 10000
     },
     "inputWidgets": {},
     "nuid": "e5318455-a758-4832-955b-826591846389",
     "showTitle": false,
     "tableResultSettingsMap": {},
     "title": ""
    }
   },
   "outputs": [],
   "source": [
    "# %sql\n",
    "\n",
    "# DROP SCHEMA IF EXISTS hive_metastore.bordereaux CASCADE"
   ]
  },
  {
   "cell_type": "code",
   "execution_count": 0,
   "metadata": {
    "application/vnd.databricks.v1+cell": {
     "cellMetadata": {
      "byteLimit": 2048000,
      "implicitDf": true,
      "rowLimit": 10000
     },
     "inputWidgets": {},
     "nuid": "f3f1dad9-352c-44d9-8ecf-86448bfb363d",
     "showTitle": false,
     "tableResultSettingsMap": {},
     "title": ""
    }
   },
   "outputs": [],
   "source": [
    "# %sql\n",
    "\n",
    "# DROP TABLE IF EXISTS hive_metastore.bdx_cleaned_unique.agricultural;\n",
    "# DROP TABLE IF EXISTS hive_metastore.bdx_cleaned_unique.commercial_auto;\n",
    "# DROP TABLE IF EXISTS hive_metastore.bdx_cleaned_unique.crime;\n",
    "# DROP TABLE IF EXISTS hive_metastore.bdx_cleaned_unique.cyber;\n",
    "# DROP TABLE IF EXISTS hive_metastore.bdx_cleaned_unique.epli;\n",
    "# DROP TABLE IF EXISTS hive_metastore.bdx_cleaned_unique.equipment_breakdown;\n",
    "# DROP TABLE IF EXISTS hive_metastore.bdx_cleaned_unique.fee;\n",
    "# DROP TABLE IF EXISTS hive_metastore.bdx_cleaned_unique.inland_marine;\n",
    "# DROP TABLE IF EXISTS hive_metastore.bdx_cleaned_unique.liability;\n",
    "# DROP TABLE IF EXISTS hive_metastore.bdx_cleaned_unique.property;\n",
    "# DROP TABLE IF EXISTS hive_metastore.bdx_cleaned_unique.umbrella;"
   ]
  },
  {
   "cell_type": "code",
   "execution_count": 0,
   "metadata": {
    "application/vnd.databricks.v1+cell": {
     "cellMetadata": {
      "byteLimit": 2048000,
      "implicitDf": true,
      "rowLimit": 10000
     },
     "inputWidgets": {},
     "nuid": "6ac74495-a68b-4740-b834-8d862fe1486a",
     "showTitle": false,
     "tableResultSettingsMap": {},
     "title": ""
    }
   },
   "outputs": [],
   "source": [
    "# %sql\n",
    "\n",
    "# DROP TABLE IF EXISTS hive_metastore.bdx_cleaned_unique.commercial_auto;"
   ]
  },
  {
   "cell_type": "code",
   "execution_count": 0,
   "metadata": {
    "application/vnd.databricks.v1+cell": {
     "cellMetadata": {
      "byteLimit": 2048000,
      "implicitDf": true,
      "rowLimit": 10000
     },
     "inputWidgets": {},
     "nuid": "7bf0647b-7712-4c51-bfb5-ec575274d519",
     "showTitle": false,
     "tableResultSettingsMap": {},
     "title": ""
    }
   },
   "outputs": [],
   "source": [
    "# %sql\n",
    "\n",
    "# DROP TABLE IF EXISTS hive_metastore.bordereaux.commercial_auto;"
   ]
  }
 ],
 "metadata": {
  "application/vnd.databricks.v1+notebook": {
   "computePreferences": null,
   "dashboards": [],
   "environmentMetadata": {
    "base_environment": "",
    "environment_version": "2"
   },
   "inputWidgetPreferences": null,
   "language": "python",
   "notebookMetadata": {
    "mostRecentlyExecutedCommandWithImplicitDF": {
     "commandId": 5256951908892555,
     "dataframes": [
      "_sqldf"
     ]
    },
    "pythonIndentUnit": 4
   },
   "notebookName": "bordereaux_cleanup_delta",
   "widgets": {}
  },
  "language_info": {
   "name": "python"
  }
 },
 "nbformat": 4,
 "nbformat_minor": 0
}
