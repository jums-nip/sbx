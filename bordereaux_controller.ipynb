{
 "cells": [
  {
   "cell_type": "code",
   "execution_count": 0,
   "metadata": {
    "application/vnd.databricks.v1+cell": {
     "cellMetadata": {},
     "inputWidgets": {},
     "nuid": "3e0d8e8e-245b-45c4-86bd-7c99e17a1d63",
     "showTitle": false,
     "tableResultSettingsMap": {},
     "title": ""
    }
   },
   "outputs": [],
   "source": [
    "years = [str(year) for year in range(2019, 2025)]\n",
    "tables = [\"agricultural\", \"commercial_auto\", \"crime\", \"cyber\", \"epli\", \"equipment_breakdown\", \"fee\", \"inland_marine\", \"liability\", \"property\", \"umbrella\"]\n",
    "\n",
    "for year in years:\n",
    "    for table in tables:\n",
    "        dbutils.notebook.run(\n",
    "            \"/Workspace/Users/jn@nipgroup.com/bordereaux_data_load_v3\",\n",
    "            timeout_seconds=3600,\n",
    "            arguments={\"year\": str(year), \"file_name\": f\"{table}-bordereaux-{year}.csv\"}\n",
    "        )"
   ]
  },
  {
   "cell_type": "code",
   "execution_count": 0,
   "metadata": {
    "application/vnd.databricks.v1+cell": {
     "cellMetadata": {
      "byteLimit": 2048000,
      "rowLimit": 10000
     },
     "inputWidgets": {},
     "nuid": "dbfc6f5e-f329-4b3f-93b2-c6c65ab688f3",
     "showTitle": false,
     "tableResultSettingsMap": {},
     "title": ""
    }
   },
   "outputs": [],
   "source": [
    "# years = [str(year) for year in range(2019, 2026)]\n",
    "# tables = [\"agricultural\", \"commercial_auto\", \"crime\", \"cyber\", \"epli\", \"equipment_breakdown\", \"fee\", \"inlan_ marine\", \"liability\", \"property\", \"umbrella\"]\n",
    "\n",
    "# values = [{\"year\": year, \"tables\": tables} for year in years]\n",
    "\n",
    "# dbutils.jobs.taskValues.set(key=\"bdx\", value=values)"
   ]
  }
 ],
 "metadata": {
  "application/vnd.databricks.v1+notebook": {
   "computePreferences": null,
   "dashboards": [],
   "environmentMetadata": {
    "base_environment": "",
    "environment_version": "2"
   },
   "inputWidgetPreferences": null,
   "language": "python",
   "notebookMetadata": {
    "pythonIndentUnit": 4
   },
   "notebookName": "bordereaux_controller",
   "widgets": {}
  },
  "language_info": {
   "name": "python"
  }
 },
 "nbformat": 4,
 "nbformat_minor": 0
}
