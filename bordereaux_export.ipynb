{
 "cells": [
  {
   "cell_type": "code",
   "execution_count": 0,
   "metadata": {
    "application/vnd.databricks.v1+cell": {
     "cellMetadata": {
      "byteLimit": 2048000,
      "rowLimit": 10000
     },
     "inputWidgets": {},
     "nuid": "8e1a0588-91df-4c5f-8d42-f83fb088da73",
     "showTitle": false,
     "tableResultSettingsMap": {},
     "title": ""
    }
   },
   "outputs": [],
   "source": [
    "# Read Delta table to DataFrame\n",
    "df_agricultural = spark.read.format(\"delta\").table(\"hive_metastore.bordereaux.agricultural\")\n",
    "\n",
    "print(f\"agricultural count: {df_agricultural.count()}\")\n",
    "\n",
    "# Convert to Pandas DataFrame\n",
    "pandas_df = df_agricultural.toPandas()\n",
    "\n",
    "# Write to a single CSV file\n",
    "pandas_df.to_csv(\"/Workspace/Users/jn@nipgroup.com/sbx/bordereaux_bak/agricultural-bordereaux-bulk.csv\", index=False)\n",
    "\n",
    "# # # Export to CSV (single file)\n",
    "# df_agricultural.coalesce(1).write.format(\"csv\").option(\"header\", \"true\").mode(\"overwrite\").save(\"/mnt/bordereaux/bronze/bulk/agricultural-bordereaux-bulk\")"
   ]
  },
  {
   "cell_type": "code",
   "execution_count": 0,
   "metadata": {
    "application/vnd.databricks.v1+cell": {
     "cellMetadata": {
      "byteLimit": 2048000,
      "rowLimit": 10000
     },
     "inputWidgets": {},
     "nuid": "14e596de-db56-441a-a82c-fb5c260a134a",
     "showTitle": false,
     "tableResultSettingsMap": {},
     "title": ""
    }
   },
   "outputs": [],
   "source": [
    "# Read Delta table to DataFrame\n",
    "df_commercial_auto = spark.read.format(\"delta\").table(\"hive_metastore.bordereaux.commercial_auto\")\n",
    "\n",
    "print(f\"commercial_auto count: {df_commercial_auto.count()}\")\n",
    "\n",
    "# Convert to Pandas DataFrame\n",
    "pandas_df = df_commercial_auto.toPandas()\n",
    "\n",
    "# Write to a single CSV file\n",
    "pandas_df.to_csv(\"/Workspace/Users/jn@nipgroup.com/sbx/bordereaux_bak/commercial_auto-bordereaux-bulk.csv\", index=False)"
   ]
  },
  {
   "cell_type": "code",
   "execution_count": 0,
   "metadata": {
    "application/vnd.databricks.v1+cell": {
     "cellMetadata": {},
     "inputWidgets": {},
     "nuid": "8fd5b8e6-df6d-4085-bcc5-9d7890c526a4",
     "showTitle": false,
     "tableResultSettingsMap": {},
     "title": ""
    }
   },
   "outputs": [],
   "source": [
    "# Read Delta table to DataFrame\n",
    "df_crime = spark.read.format(\"delta\").table(\"hive_metastore.bordereaux.crime\")\n",
    "\n",
    "print(f\"crime count: {df_crime.count()}\")\n",
    "\n",
    "# Convert to Pandas DataFrame\n",
    "pandas_df = df_crime.toPandas()\n",
    "\n",
    "# Write to a single CSV file\n",
    "pandas_df.to_csv(\"/Workspace/Users/jn@nipgroup.com/sbx/bordereaux_bak/crime-bordereaux-bulk.csv\", index=False)"
   ]
  },
  {
   "cell_type": "code",
   "execution_count": 0,
   "metadata": {
    "application/vnd.databricks.v1+cell": {
     "cellMetadata": {},
     "inputWidgets": {},
     "nuid": "96d69aea-4d6c-4351-839f-9505f1c4957a",
     "showTitle": false,
     "tableResultSettingsMap": {},
     "title": ""
    }
   },
   "outputs": [],
   "source": [
    "# Read Delta table to DataFrame\n",
    "df_cyber = spark.read.format(\"delta\").table(\"hive_metastore.bordereaux.cyber\")\n",
    "\n",
    "print(f\"cyber count: {df_cyber.count()}\")\n",
    "\n",
    "# Convert to Pandas DataFrame\n",
    "pandas_df = df_cyber.toPandas()\n",
    "\n",
    "# Write to a single CSV file\n",
    "pandas_df.to_csv(\"/Workspace/Users/jn@nipgroup.com/sbx/bordereaux_bak/cyber-bordereaux-bulk.csv\", index=False)"
   ]
  },
  {
   "cell_type": "code",
   "execution_count": 0,
   "metadata": {
    "application/vnd.databricks.v1+cell": {
     "cellMetadata": {},
     "inputWidgets": {},
     "nuid": "93631086-8a78-4616-b62e-a691e00c1416",
     "showTitle": false,
     "tableResultSettingsMap": {},
     "title": ""
    }
   },
   "outputs": [],
   "source": [
    "# Read Delta table to DataFrame\n",
    "df_epli = spark.read.format(\"delta\").table(\"hive_metastore.bordereaux.epli\")\n",
    "\n",
    "print(f\"epli count: {df_epli.count()}\")\n",
    "\n",
    "# Convert to Pandas DataFrame\n",
    "pandas_df = df_epli.toPandas()\n",
    "\n",
    "# Write to a single CSV file\n",
    "pandas_df.to_csv(\"/Workspace/Users/jn@nipgroup.com/sbx/bordereaux_bak/epli-bordereaux-bulk.csv\", index=False)"
   ]
  },
  {
   "cell_type": "code",
   "execution_count": 0,
   "metadata": {
    "application/vnd.databricks.v1+cell": {
     "cellMetadata": {},
     "inputWidgets": {},
     "nuid": "e32b5274-21c0-40fc-9550-23b68ffd7ed9",
     "showTitle": false,
     "tableResultSettingsMap": {},
     "title": ""
    }
   },
   "outputs": [],
   "source": [
    "# Read Delta table to DataFrame\n",
    "df_equipment_breakdown = spark.read.format(\"delta\").table(\"hive_metastore.bordereaux.equipment_breakdown\")\n",
    "\n",
    "print(f\"equipment_breakdown count: {df_equipment_breakdown.count()}\")\n",
    "\n",
    "# Convert to Pandas DataFrame\n",
    "pandas_df = df_equipment_breakdown.toPandas()\n",
    "\n",
    "# Write to a single CSV file\n",
    "pandas_df.to_csv(\"/Workspace/Users/jn@nipgroup.com/sbx/bordereaux_bak/equipment_breakdown-bordereaux-bulk.csv\", index=False)"
   ]
  },
  {
   "cell_type": "code",
   "execution_count": 0,
   "metadata": {
    "application/vnd.databricks.v1+cell": {
     "cellMetadata": {},
     "inputWidgets": {},
     "nuid": "c4d0fd82-3aa0-43a3-9d1a-2759fcec572f",
     "showTitle": false,
     "tableResultSettingsMap": {},
     "title": ""
    }
   },
   "outputs": [],
   "source": [
    "# Read Delta table to DataFrame\n",
    "df_fee = spark.read.format(\"delta\").table(\"hive_metastore.bordereaux.fee\")\n",
    "\n",
    "print(f\"fee count: {df_fee.count()}\")\n",
    "\n",
    "# Convert to Pandas DataFrame\n",
    "pandas_df = df_fee.toPandas()\n",
    "\n",
    "# Write to a single CSV file\n",
    "pandas_df.to_csv(\"/Workspace/Users/jn@nipgroup.com/sbx/bordereaux_bak/fee-bordereaux-bulk.csv\", index=False)"
   ]
  },
  {
   "cell_type": "code",
   "execution_count": 0,
   "metadata": {
    "application/vnd.databricks.v1+cell": {
     "cellMetadata": {},
     "inputWidgets": {},
     "nuid": "bc94d27d-3858-4122-b17d-b25fede30ae5",
     "showTitle": false,
     "tableResultSettingsMap": {},
     "title": ""
    }
   },
   "outputs": [],
   "source": [
    "# Read Delta table to DataFrame\n",
    "df_inland_marine = spark.read.format(\"delta\").table(\"hive_metastore.bordereaux.inland_marine\")\n",
    "\n",
    "print(f\"inland_marine count: {df_inland_marine.count()}\")\n",
    "\n",
    "# Convert to Pandas DataFrame\n",
    "pandas_df = df_inland_marine.toPandas()\n",
    "\n",
    "# Write to a single CSV file\n",
    "pandas_df.to_csv(\"/Workspace/Users/jn@nipgroup.com/sbx/bordereaux_bak/inland_marine-bordereaux-bulk.csv\", index=False)"
   ]
  },
  {
   "cell_type": "code",
   "execution_count": 0,
   "metadata": {
    "application/vnd.databricks.v1+cell": {
     "cellMetadata": {},
     "inputWidgets": {},
     "nuid": "1d4a97be-fb40-4216-8ac4-fcb507b9d82a",
     "showTitle": false,
     "tableResultSettingsMap": {},
     "title": ""
    }
   },
   "outputs": [],
   "source": [
    "# Read Delta table to DataFrame\n",
    "df_liability = spark.read.format(\"delta\").table(\"hive_metastore.bordereaux.liability\")\n",
    "\n",
    "print(f\"liability count: {df_liability.count()}\")\n",
    "\n",
    "# Convert to Pandas DataFrame\n",
    "pandas_df = df_liability.toPandas()\n",
    "\n",
    "# Write to a single CSV file\n",
    "pandas_df.to_csv(\"/Workspace/Users/jn@nipgroup.com/sbx/bordereaux_bak/liability-bordereaux-bulk.csv\", index=False)"
   ]
  },
  {
   "cell_type": "code",
   "execution_count": 0,
   "metadata": {
    "application/vnd.databricks.v1+cell": {
     "cellMetadata": {},
     "inputWidgets": {},
     "nuid": "b3b2868f-0427-42ad-8aa3-da0b1bd1fe06",
     "showTitle": false,
     "tableResultSettingsMap": {},
     "title": ""
    }
   },
   "outputs": [],
   "source": [
    "# Read Delta table to DataFrame\n",
    "df_liability_siriuspoint = spark.read.format(\"delta\").table(\"hive_metastore.bordereaux.liability_siriuspoint\")\n",
    "\n",
    "print(f\"liability_siriuspoint count: {df_liability_siriuspoint.count()}\")\n",
    "\n",
    "# Convert to Pandas DataFrame\n",
    "pandas_df = df_liability_siriuspoint.toPandas()\n",
    "\n",
    "# Write to a single CSV file\n",
    "pandas_df.to_csv(\"/Workspace/Users/jn@nipgroup.com/sbx/bordereaux_bak/liability_siriuspoint-bordereaux-bulk.csv\", index=False)"
   ]
  },
  {
   "cell_type": "code",
   "execution_count": 0,
   "metadata": {
    "application/vnd.databricks.v1+cell": {
     "cellMetadata": {},
     "inputWidgets": {},
     "nuid": "925e8710-8abe-4f81-b814-6f2cfbfae007",
     "showTitle": false,
     "tableResultSettingsMap": {},
     "title": ""
    }
   },
   "outputs": [],
   "source": [
    "# Read Delta table to DataFrame\n",
    "df_property = spark.read.format(\"delta\").table(\"hive_metastore.bordereaux.property\")\n",
    "\n",
    "print(f\"property count: {df_property.count()}\")\n",
    "\n",
    "# Convert to Pandas DataFrame\n",
    "pandas_df = df_property.toPandas()\n",
    "\n",
    "# Write to a single CSV file\n",
    "pandas_df.to_csv(\"/Workspace/Users/jn@nipgroup.com/sbx/bordereaux_bak/property-bordereaux-bulk.csv\", index=False)"
   ]
  },
  {
   "cell_type": "code",
   "execution_count": 0,
   "metadata": {
    "application/vnd.databricks.v1+cell": {
     "cellMetadata": {},
     "inputWidgets": {},
     "nuid": "8c27a9e9-b230-498b-b6f6-5d2caf811b7d",
     "showTitle": false,
     "tableResultSettingsMap": {},
     "title": ""
    }
   },
   "outputs": [],
   "source": [
    "# Read Delta table to DataFrame\n",
    "df_umbrella = spark.read.format(\"delta\").table(\"hive_metastore.bordereaux.umbrella\")\n",
    "\n",
    "print(f\"umbrella count: {df_umbrella.count()}\")\n",
    "\n",
    "# Convert to Pandas DataFrame\n",
    "pandas_df = df_umbrella.toPandas()\n",
    "\n",
    "# Write to a single CSV file\n",
    "pandas_df.to_csv(\"/Workspace/Users/jn@nipgroup.com/sbx/bordereaux_bak/umbrella-bordereaux-bulk.csv\", index=False)"
   ]
  }
 ],
 "metadata": {
  "application/vnd.databricks.v1+notebook": {
   "computePreferences": null,
   "dashboards": [],
   "environmentMetadata": {
    "base_environment": "",
    "environment_version": "3"
   },
   "inputWidgetPreferences": null,
   "language": "python",
   "notebookMetadata": {
    "pythonIndentUnit": 4
   },
   "notebookName": "bordereaux_export",
   "widgets": {}
  },
  "language_info": {
   "name": "python"
  }
 },
 "nbformat": 4,
 "nbformat_minor": 0
}
