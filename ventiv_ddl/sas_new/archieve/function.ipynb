{
 "cells": [
  {
   "cell_type": "code",
   "execution_count": 0,
   "metadata": {
    "application/vnd.databricks.v1+cell": {
     "cellMetadata": {},
     "inputWidgets": {},
     "nuid": "0244a2f3-29ae-473b-b68b-1528a9f8c843",
     "showTitle": false,
     "tableResultSettingsMap": {},
     "title": ""
    }
   },
   "outputs": [],
   "source": [
    "dbutils.widgets.removeAll()"
   ]
  },
  {
   "cell_type": "code",
   "execution_count": 0,
   "metadata": {
    "application/vnd.databricks.v1+cell": {
     "cellMetadata": {
      "byteLimit": 2048000,
      "rowLimit": 10000
     },
     "inputWidgets": {},
     "nuid": "29307f0b-4a83-4710-93a3-42fc01350c7d",
     "showTitle": false,
     "tableResultSettingsMap": {},
     "title": ""
    }
   },
   "outputs": [],
   "source": [
    "print(\"Hello World\")\n",
    "\n",
    "function_variable = \"Hello World, function\"\n",
    "\n",
    "# dbutils.widgets.text(\"catalog\", \"hive_metastore\")\n",
    "# dbutils.widgets.text(\"schema_name\", \"delta_nip\")\n",
    "# dbutils.widgets.text(\"root_path\", \"/user/hive/warehouse/delta_nip.db/\")\n",
    "# dbutils.widgets.text(\"table_name\", table_name)\n",
    "# dbutils.widgets.text(\"file_name\", \"ref_class_code_exported_data_04052025.csv\")"
   ]
  }
 ],
 "metadata": {
  "application/vnd.databricks.v1+notebook": {
   "computePreferences": null,
   "dashboards": [],
   "environmentMetadata": {
    "base_environment": "",
    "environment_version": "2"
   },
   "inputWidgetPreferences": null,
   "language": "python",
   "notebookMetadata": {
    "pythonIndentUnit": 4
   },
   "notebookName": "function",
   "widgets": {
    "catalog": {
     "currentValue": "hive_metastore",
     "nuid": "f770de95-903f-442d-93ad-53d846d87b06",
     "typedWidgetInfo": {
      "autoCreated": false,
      "defaultValue": "hive_metastore",
      "label": null,
      "name": "catalog",
      "options": {
       "widgetDisplayType": "Text",
       "validationRegex": null
      },
      "parameterDataType": "String"
     },
     "widgetInfo": {
      "widgetType": "text",
      "defaultValue": "hive_metastore",
      "label": null,
      "name": "catalog",
      "options": {
       "widgetType": "text",
       "autoCreated": false,
       "validationRegex": null
      }
     }
    },
    "root_path": {
     "currentValue": "/user/hive/warehouse/delta_nip.db/",
     "nuid": "98c537f9-80fe-4864-a0db-e6a164eac6e1",
     "typedWidgetInfo": {
      "autoCreated": false,
      "defaultValue": "/user/hive/warehouse/delta_nip.db/",
      "label": null,
      "name": "root_path",
      "options": {
       "widgetDisplayType": "Text",
       "validationRegex": null
      },
      "parameterDataType": "String"
     },
     "widgetInfo": {
      "widgetType": "text",
      "defaultValue": "/user/hive/warehouse/delta_nip.db/",
      "label": null,
      "name": "root_path",
      "options": {
       "widgetType": "text",
       "autoCreated": false,
       "validationRegex": null
      }
     }
    },
    "schema_name": {
     "currentValue": "delta_nip",
     "nuid": "f53546bd-4094-41aa-bee2-cafc9055a460",
     "typedWidgetInfo": {
      "autoCreated": false,
      "defaultValue": "delta_nip",
      "label": null,
      "name": "schema_name",
      "options": {
       "widgetDisplayType": "Text",
       "validationRegex": null
      },
      "parameterDataType": "String"
     },
     "widgetInfo": {
      "widgetType": "text",
      "defaultValue": "delta_nip",
      "label": null,
      "name": "schema_name",
      "options": {
       "widgetType": "text",
       "autoCreated": false,
       "validationRegex": null
      }
     }
    }
   }
  },
  "language_info": {
   "name": "python"
  }
 },
 "nbformat": 4,
 "nbformat_minor": 0
}
