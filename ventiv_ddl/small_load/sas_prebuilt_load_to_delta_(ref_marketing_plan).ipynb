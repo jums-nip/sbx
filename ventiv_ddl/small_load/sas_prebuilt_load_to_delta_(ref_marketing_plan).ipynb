{
 "cells": [
  {
   "cell_type": "code",
   "execution_count": 0,
   "metadata": {
    "application/vnd.databricks.v1+cell": {
     "cellMetadata": {
      "byteLimit": 2048000,
      "rowLimit": 10000
     },
     "inputWidgets": {},
     "nuid": "d1d814fc-6d5c-4b66-9052-e8234467e440",
     "showTitle": true,
     "tableResultSettingsMap": {},
     "title": "Initialize parameters and assign values"
    }
   },
   "outputs": [],
   "source": [
    "dbutils.widgets.removeAll()"
   ]
  },
  {
   "cell_type": "code",
   "execution_count": 0,
   "metadata": {
    "application/vnd.databricks.v1+cell": {
     "cellMetadata": {
      "byteLimit": 2048000,
      "rowLimit": 10000
     },
     "inputWidgets": {},
     "nuid": "0060787c-1547-4459-84e7-ab7afbfad43c",
     "showTitle": false,
     "tableResultSettingsMap": {},
     "title": ""
    }
   },
   "outputs": [],
   "source": [
    "dbutils.widgets.text(\"catalog\", \"hive_metastore\")\n",
    "dbutils.widgets.text(\"schema_name\", \"delta_nip\")\n",
    "dbutils.widgets.text(\"root_path\", \"/user/hive/warehouse/delta_nip.db/\")\n",
    "dbutils.widgets.text(\"table_name\", \"ref_marketing_plan\")\n",
    "dbutils.widgets.text(\"file_name\", \"ref_marketing_plan_exported_data_04052025.csv\")"
   ]
  },
  {
   "cell_type": "code",
   "execution_count": 0,
   "metadata": {
    "application/vnd.databricks.v1+cell": {
     "cellMetadata": {
      "byteLimit": 2048000,
      "rowLimit": 10000
     },
     "inputWidgets": {},
     "nuid": "0ffa23a0-432a-4f62-b1d8-4a9f06e4f2ae",
     "showTitle": true,
     "tableResultSettingsMap": {},
     "title": "Load the data"
    }
   },
   "outputs": [],
   "source": [
    "\n",
    "catalog = dbutils.widgets.get(\"catalog\")\n",
    "schema_name = dbutils.widgets.get(\"schema_name\")\n",
    "root_path = dbutils.widgets.get(\"root_path\")\n",
    "table_name = dbutils.widgets.get(\"table_name\")\n",
    "file_name = dbutils.widgets.get(\"file_name\")\n",
    "table_full_path = f\"{root_path}{table_name}\"\n",
    "\n",
    "# Step 1; Read schema from existing Delta table\n",
    "existing_table_schema = spark.read.format(\"delta\").load(table_full_path).schema\n",
    "\n",
    "# Step 2: Load data from CSV and enforce schema from existing table to the DataFrame\n",
    "mnt_path = f\"/mnt/load/{file_name}\"\n",
    "df = spark.read.csv(mnt_path, header=True, schema=existing_table_schema)\n",
    "\n",
    "# Options include:\n",
    "# append: Append contents of this DataFrame to existing data.\n",
    "# overwrite: Overwrite existing data.\n",
    "# error or errorifexists: Throw an exception if data already exists.\n",
    "# ignore: Silently ignore this operation if data already exists.\n",
    "\n",
    "# Step 3: Write DataFrame to Delta table\n",
    "df.write.format(\"delta\").mode(\"append\").saveAsTable(table_full_path)"
   ]
  }
 ],
 "metadata": {
  "application/vnd.databricks.v1+notebook": {
   "computePreferences": null,
   "dashboards": [],
   "environmentMetadata": {
    "base_environment": "",
    "environment_version": "2"
   },
   "inputWidgetPreferences": null,
   "language": "python",
   "notebookMetadata": {
    "pythonIndentUnit": 4,
    "widgetLayout": []
   },
   "notebookName": "sas_prebuilt_load_to_delta_(ref_marketing_plan)",
   "widgets": {
    "catalog": {
     "currentValue": "hive_metastore",
     "nuid": "3a75b96d-9388-4564-a165-49ff8757d100",
     "typedWidgetInfo": {
      "autoCreated": false,
      "defaultValue": "hive_metastore",
      "label": null,
      "name": "catalog",
      "options": {
       "widgetDisplayType": "Text",
       "validationRegex": null
      },
      "parameterDataType": "String"
     },
     "widgetInfo": {
      "widgetType": "text",
      "defaultValue": "hive_metastore",
      "label": null,
      "name": "catalog",
      "options": {
       "widgetType": "text",
       "autoCreated": false,
       "validationRegex": null
      }
     }
    },
    "file_name": {
     "currentValue": "ref_organization_exported_data_04052025.csv",
     "nuid": "f2436b64-3b68-4cec-9da5-34e8c493d474",
     "typedWidgetInfo": {
      "autoCreated": false,
      "defaultValue": "ref_organization_exported_data_04052025.csv",
      "label": null,
      "name": "file_name",
      "options": {
       "widgetDisplayType": "Text",
       "validationRegex": null
      },
      "parameterDataType": "String"
     },
     "widgetInfo": {
      "widgetType": "text",
      "defaultValue": "ref_organization_exported_data_04052025.csv",
      "label": null,
      "name": "file_name",
      "options": {
       "widgetType": "text",
       "autoCreated": false,
       "validationRegex": null
      }
     }
    },
    "root_path": {
     "currentValue": "/user/hive/warehouse/delta_nip.db/",
     "nuid": "ec913bec-1aa6-4a70-a8f0-ee864c1db110",
     "typedWidgetInfo": {
      "autoCreated": false,
      "defaultValue": "/user/hive/warehouse/delta_nip.db/",
      "label": null,
      "name": "root_path",
      "options": {
       "widgetDisplayType": "Text",
       "validationRegex": null
      },
      "parameterDataType": "String"
     },
     "widgetInfo": {
      "widgetType": "text",
      "defaultValue": "/user/hive/warehouse/delta_nip.db/",
      "label": null,
      "name": "root_path",
      "options": {
       "widgetType": "text",
       "autoCreated": false,
       "validationRegex": null
      }
     }
    },
    "schema_name": {
     "currentValue": "delta_nip",
     "nuid": "966dc67d-deac-43bc-ae83-df50515aae0c",
     "typedWidgetInfo": {
      "autoCreated": false,
      "defaultValue": "delta_nip",
      "label": null,
      "name": "schema_name",
      "options": {
       "widgetDisplayType": "Text",
       "validationRegex": null
      },
      "parameterDataType": "String"
     },
     "widgetInfo": {
      "widgetType": "text",
      "defaultValue": "delta_nip",
      "label": null,
      "name": "schema_name",
      "options": {
       "widgetType": "text",
       "autoCreated": false,
       "validationRegex": null
      }
     }
    },
    "table_name": {
     "currentValue": "ref_organization",
     "nuid": "f533c61b-fa86-4e97-96ff-f376283baca4",
     "typedWidgetInfo": {
      "autoCreated": false,
      "defaultValue": "ref_organization",
      "label": null,
      "name": "table_name",
      "options": {
       "widgetDisplayType": "Text",
       "validationRegex": null
      },
      "parameterDataType": "String"
     },
     "widgetInfo": {
      "widgetType": "text",
      "defaultValue": "ref_organization",
      "label": null,
      "name": "table_name",
      "options": {
       "widgetType": "text",
       "autoCreated": false,
       "validationRegex": null
      }
     }
    }
   }
  },
  "language_info": {
   "name": "python"
  }
 },
 "nbformat": 4,
 "nbformat_minor": 0
}
