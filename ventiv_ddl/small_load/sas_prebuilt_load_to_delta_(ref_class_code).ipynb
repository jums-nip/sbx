{
 "cells": [
  {
   "cell_type": "code",
   "execution_count": 0,
   "metadata": {
    "application/vnd.databricks.v1+cell": {
     "cellMetadata": {},
     "inputWidgets": {},
     "nuid": "b2cadd7d-c805-4ad1-8c87-65fc9b1433b7",
     "showTitle": false,
     "tableResultSettingsMap": {},
     "title": ""
    }
   },
   "outputs": [],
   "source": [
    "dbutils.widgets.removeAll()"
   ]
  },
  {
   "cell_type": "code",
   "execution_count": 0,
   "metadata": {
    "application/vnd.databricks.v1+cell": {
     "cellMetadata": {
      "byteLimit": 2048000,
      "rowLimit": 10000
     },
     "inputWidgets": {},
     "nuid": "d1d814fc-6d5c-4b66-9052-e8234467e440",
     "showTitle": true,
     "tableResultSettingsMap": {},
     "title": "Initialize parameters and assign values"
    }
   },
   "outputs": [],
   "source": [
    "dbutils.widgets.text(\"catalog\", \"hive_metastore\")\n",
    "dbutils.widgets.text(\"schema_name\", \"delta_nip\")\n",
    "dbutils.widgets.text(\"root_path\", \"/user/hive/warehouse/delta_nip.db/\")\n",
    "dbutils.widgets.text(\"table_name\", \"ref_class_code\")\n",
    "dbutils.widgets.text(\"file_name\", \"ref_class_code_exported_data_04052025.csv\")\n"
   ]
  },
  {
   "cell_type": "code",
   "execution_count": 0,
   "metadata": {
    "application/vnd.databricks.v1+cell": {
     "cellMetadata": {
      "byteLimit": 2048000,
      "rowLimit": 10000
     },
     "inputWidgets": {},
     "nuid": "0ffa23a0-432a-4f62-b1d8-4a9f06e4f2ae",
     "showTitle": true,
     "tableResultSettingsMap": {},
     "title": "Load the data"
    }
   },
   "outputs": [],
   "source": [
    "\n",
    "catalog = dbutils.widgets.get(\"catalog\")\n",
    "schema_name = dbutils.widgets.get(\"schema_name\")\n",
    "root_path = dbutils.widgets.get(\"root_path\")\n",
    "table_name = dbutils.widgets.get(\"table_name\")\n",
    "file_name = dbutils.widgets.get(\"file_name\")\n",
    "table_full_path = f\"{root_path}{table_name}\"\n",
    "delta_table = f\"{schema_name}.{table_name}\"\n",
    "\n",
    "# Initialize Catalog and Schema\n",
    "spark.sql(\"USE CATALOG {}\".format(catalog))\n",
    "spark.sql(\"USE SCHEMA {}\".format(schema_name))\n",
    "\n",
    "# Step 1; Read schema from existing Delta table\n",
    "existing_table_schema = spark.read.format(\"delta\").load(table_full_path).schema\n",
    "\n",
    "# Step 2: Load data from CSV and enforce schema from existing table to the DataFrame\n",
    "mnt_path = f\"/mnt/load/{file_name}\"\n",
    "df = spark.read.csv(mnt_path, header=True, schema=existing_table_schema)\n",
    "\n",
    "# Options include:\n",
    "# append: Append contents of this DataFrame to existing data.\n",
    "# overwrite: Overwrite existing data.\n",
    "# error or errorifexists: Throw an exception if data already exists.\n",
    "# ignore: Silently ignore this operation if data already exists.\n",
    "\n",
    "# Step 3: Write DataFrame to Delta table\n",
    "df.write.format(\"delta\").mode(\"append\").saveAsTable(delta_table)"
   ]
  }
 ],
 "metadata": {
  "application/vnd.databricks.v1+notebook": {
   "computePreferences": null,
   "dashboards": [],
   "environmentMetadata": {
    "base_environment": "",
    "environment_version": "2"
   },
   "inputWidgetPreferences": null,
   "language": "python",
   "notebookMetadata": {
    "pythonIndentUnit": 4
   },
   "notebookName": "sas_prebuilt_load_to_delta_(ref_class_code)",
   "widgets": {
    "catalog": {
     "currentValue": "hive_metastore",
     "nuid": "3637909a-fb94-4a87-b039-4deb505e86d6",
     "typedWidgetInfo": {
      "autoCreated": false,
      "defaultValue": "hive_metastore",
      "label": null,
      "name": "catalog",
      "options": {
       "widgetDisplayType": "Text",
       "validationRegex": null
      },
      "parameterDataType": "String"
     },
     "widgetInfo": {
      "widgetType": "text",
      "defaultValue": "hive_metastore",
      "label": null,
      "name": "catalog",
      "options": {
       "widgetType": "text",
       "autoCreated": false,
       "validationRegex": null
      }
     }
    },
    "file_name": {
     "currentValue": "ref_class_code_exported_data_04052025.csv",
     "nuid": "eba0ba95-c4c6-4937-9010-21024a06fb28",
     "typedWidgetInfo": {
      "autoCreated": false,
      "defaultValue": "ref_class_code_exported_data_04052025.csv",
      "label": null,
      "name": "file_name",
      "options": {
       "widgetDisplayType": "Text",
       "validationRegex": null
      },
      "parameterDataType": "String"
     },
     "widgetInfo": {
      "widgetType": "text",
      "defaultValue": "ref_class_code_exported_data_04052025.csv",
      "label": null,
      "name": "file_name",
      "options": {
       "widgetType": "text",
       "autoCreated": null,
       "validationRegex": null
      }
     }
    },
    "root": {
     "currentValue": "/user/hive/warehouse/delta_nip.db/",
     "nuid": "a0f8f832-99d0-4235-b216-952f934cf8b1",
     "typedWidgetInfo": {
      "autoCreated": false,
      "defaultValue": "/user/hive/warehouse/delta_nip.db/",
      "label": null,
      "name": "root",
      "options": {
       "widgetDisplayType": "Text",
       "validationRegex": null
      },
      "parameterDataType": "String"
     },
     "widgetInfo": {
      "widgetType": "text",
      "defaultValue": "/user/hive/warehouse/delta_nip.db/",
      "label": null,
      "name": "root",
      "options": {
       "widgetType": "text",
       "autoCreated": false,
       "validationRegex": null
      }
     }
    },
    "root_path": {
     "currentValue": "/user/hive/warehouse/delta_nip.db/",
     "nuid": "2f7e5134-ab44-4dec-becb-9ece567bc69d",
     "typedWidgetInfo": {
      "autoCreated": false,
      "defaultValue": "/user/hive/warehouse/delta_nip.db/",
      "label": null,
      "name": "root_path",
      "options": {
       "widgetDisplayType": "Text",
       "validationRegex": null
      },
      "parameterDataType": "String"
     },
     "widgetInfo": {
      "widgetType": "text",
      "defaultValue": "/user/hive/warehouse/delta_nip.db/",
      "label": null,
      "name": "root_path",
      "options": {
       "widgetType": "text",
       "autoCreated": null,
       "validationRegex": null
      }
     }
    },
    "schema_name": {
     "currentValue": "delta_nip",
     "nuid": "fb1723fa-ad49-46b0-883f-d90d7116ce86",
     "typedWidgetInfo": {
      "autoCreated": false,
      "defaultValue": "delta_nip",
      "label": null,
      "name": "schema_name",
      "options": {
       "widgetDisplayType": "Text",
       "validationRegex": null
      },
      "parameterDataType": "String"
     },
     "widgetInfo": {
      "widgetType": "text",
      "defaultValue": "delta_nip",
      "label": null,
      "name": "schema_name",
      "options": {
       "widgetType": "text",
       "autoCreated": null,
       "validationRegex": null
      }
     }
    },
    "table_name": {
     "currentValue": "ref_class_code",
     "nuid": "7371feac-578e-40a7-a8ce-9261c4120b3c",
     "typedWidgetInfo": {
      "autoCreated": false,
      "defaultValue": "ref_class_code",
      "label": null,
      "name": "table_name",
      "options": {
       "widgetDisplayType": "Text",
       "validationRegex": null
      },
      "parameterDataType": "String"
     },
     "widgetInfo": {
      "widgetType": "text",
      "defaultValue": "ref_class_code",
      "label": null,
      "name": "table_name",
      "options": {
       "widgetType": "text",
       "autoCreated": null,
       "validationRegex": null
      }
     }
    }
   }
  },
  "language_info": {
   "name": "python"
  }
 },
 "nbformat": 4,
 "nbformat_minor": 0
}
